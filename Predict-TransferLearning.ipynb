{
 "cells": [
  {
   "cell_type": "code",
   "execution_count": 1,
   "metadata": {},
   "outputs": [],
   "source": [
    "import torch\n",
    "import os\n",
    "import cv2\n",
    "import matplotlib\n",
    "import matplotlib.pyplot as plt\n",
    "from torch.autograd import Variable\n",
    "import numpy as np\n",
    "from torchvision import transforms\n",
    "from torchvision import datasets\n",
    "\n",
    "from ModelDefine import CNN"
   ]
  },
  {
   "cell_type": "code",
   "execution_count": 2,
   "metadata": {},
   "outputs": [],
   "source": [
    "IMAGE_SIZE=(299,299)"
   ]
  },
  {
   "cell_type": "code",
   "execution_count": 3,
   "metadata": {},
   "outputs": [],
   "source": [
    "from cnn_finetune import make_model\n",
    "import torch.nn as nn\n",
    "\n",
    "def make_classifier(in_features, num_classes):\n",
    "    return nn.Sequential(\n",
    "        nn.Linear(in_features, num_classes)\n",
    "    )\n",
    "\n",
    "model = make_model('xception', num_classes=120, pretrained=True, input_size=IMAGE_SIZE, classifier_factory=make_classifier)"
   ]
  },
  {
   "cell_type": "code",
   "execution_count": 4,
   "metadata": {},
   "outputs": [],
   "source": [
    "model.load_state_dict(torch.load('run_2021_01_07-15_10_01_weights_65.pkl'))\n",
    "model.eval()\n",
    "model=model.cuda()"
   ]
  },
  {
   "cell_type": "code",
   "execution_count": 5,
   "metadata": {},
   "outputs": [
    {
     "name": "stdout",
     "output_type": "stream",
     "text": [
      "----------------------------------------------------------------\n",
      "        Layer (type)               Output Shape         Param #\n",
      "================================================================\n",
      "            Conv2d-1         [-1, 32, 149, 149]             864\n",
      "       BatchNorm2d-2         [-1, 32, 149, 149]              64\n",
      "              ReLU-3         [-1, 32, 149, 149]               0\n",
      "            Conv2d-4         [-1, 64, 147, 147]          18,432\n",
      "       BatchNorm2d-5         [-1, 64, 147, 147]             128\n",
      "            Conv2d-6         [-1, 64, 147, 147]             576\n",
      "            Conv2d-7        [-1, 128, 147, 147]           8,192\n",
      "   SeparableConv2d-8        [-1, 128, 147, 147]               0\n",
      "       BatchNorm2d-9        [-1, 128, 147, 147]             256\n",
      "             ReLU-10        [-1, 128, 147, 147]               0\n",
      "             ReLU-11        [-1, 128, 147, 147]               0\n",
      "           Conv2d-12        [-1, 128, 147, 147]           1,152\n",
      "           Conv2d-13        [-1, 128, 147, 147]          16,384\n",
      "  SeparableConv2d-14        [-1, 128, 147, 147]               0\n",
      "      BatchNorm2d-15        [-1, 128, 147, 147]             256\n",
      "        MaxPool2d-16          [-1, 128, 74, 74]               0\n",
      "           Conv2d-17          [-1, 128, 74, 74]           8,192\n",
      "      BatchNorm2d-18          [-1, 128, 74, 74]             256\n",
      "            Block-19          [-1, 128, 74, 74]               0\n",
      "             ReLU-20          [-1, 128, 74, 74]               0\n",
      "           Conv2d-21          [-1, 128, 74, 74]           1,152\n",
      "           Conv2d-22          [-1, 256, 74, 74]          32,768\n",
      "  SeparableConv2d-23          [-1, 256, 74, 74]               0\n",
      "      BatchNorm2d-24          [-1, 256, 74, 74]             512\n",
      "             ReLU-25          [-1, 256, 74, 74]               0\n",
      "             ReLU-26          [-1, 256, 74, 74]               0\n",
      "           Conv2d-27          [-1, 256, 74, 74]           2,304\n",
      "           Conv2d-28          [-1, 256, 74, 74]          65,536\n",
      "  SeparableConv2d-29          [-1, 256, 74, 74]               0\n",
      "      BatchNorm2d-30          [-1, 256, 74, 74]             512\n",
      "        MaxPool2d-31          [-1, 256, 37, 37]               0\n",
      "           Conv2d-32          [-1, 256, 37, 37]          32,768\n",
      "      BatchNorm2d-33          [-1, 256, 37, 37]             512\n",
      "            Block-34          [-1, 256, 37, 37]               0\n",
      "             ReLU-35          [-1, 256, 37, 37]               0\n",
      "           Conv2d-36          [-1, 256, 37, 37]           2,304\n",
      "           Conv2d-37          [-1, 728, 37, 37]         186,368\n",
      "  SeparableConv2d-38          [-1, 728, 37, 37]               0\n",
      "      BatchNorm2d-39          [-1, 728, 37, 37]           1,456\n",
      "             ReLU-40          [-1, 728, 37, 37]               0\n",
      "             ReLU-41          [-1, 728, 37, 37]               0\n",
      "           Conv2d-42          [-1, 728, 37, 37]           6,552\n",
      "           Conv2d-43          [-1, 728, 37, 37]         529,984\n",
      "  SeparableConv2d-44          [-1, 728, 37, 37]               0\n",
      "      BatchNorm2d-45          [-1, 728, 37, 37]           1,456\n",
      "        MaxPool2d-46          [-1, 728, 19, 19]               0\n",
      "           Conv2d-47          [-1, 728, 19, 19]         186,368\n",
      "      BatchNorm2d-48          [-1, 728, 19, 19]           1,456\n",
      "            Block-49          [-1, 728, 19, 19]               0\n",
      "             ReLU-50          [-1, 728, 19, 19]               0\n",
      "           Conv2d-51          [-1, 728, 19, 19]           6,552\n",
      "           Conv2d-52          [-1, 728, 19, 19]         529,984\n",
      "  SeparableConv2d-53          [-1, 728, 19, 19]               0\n",
      "      BatchNorm2d-54          [-1, 728, 19, 19]           1,456\n",
      "             ReLU-55          [-1, 728, 19, 19]               0\n",
      "             ReLU-56          [-1, 728, 19, 19]               0\n",
      "           Conv2d-57          [-1, 728, 19, 19]           6,552\n",
      "           Conv2d-58          [-1, 728, 19, 19]         529,984\n",
      "  SeparableConv2d-59          [-1, 728, 19, 19]               0\n",
      "      BatchNorm2d-60          [-1, 728, 19, 19]           1,456\n",
      "             ReLU-61          [-1, 728, 19, 19]               0\n",
      "             ReLU-62          [-1, 728, 19, 19]               0\n",
      "           Conv2d-63          [-1, 728, 19, 19]           6,552\n",
      "           Conv2d-64          [-1, 728, 19, 19]         529,984\n",
      "  SeparableConv2d-65          [-1, 728, 19, 19]               0\n",
      "      BatchNorm2d-66          [-1, 728, 19, 19]           1,456\n",
      "            Block-67          [-1, 728, 19, 19]               0\n",
      "             ReLU-68          [-1, 728, 19, 19]               0\n",
      "           Conv2d-69          [-1, 728, 19, 19]           6,552\n",
      "           Conv2d-70          [-1, 728, 19, 19]         529,984\n",
      "  SeparableConv2d-71          [-1, 728, 19, 19]               0\n",
      "      BatchNorm2d-72          [-1, 728, 19, 19]           1,456\n",
      "             ReLU-73          [-1, 728, 19, 19]               0\n",
      "             ReLU-74          [-1, 728, 19, 19]               0\n",
      "           Conv2d-75          [-1, 728, 19, 19]           6,552\n",
      "           Conv2d-76          [-1, 728, 19, 19]         529,984\n",
      "  SeparableConv2d-77          [-1, 728, 19, 19]               0\n",
      "      BatchNorm2d-78          [-1, 728, 19, 19]           1,456\n",
      "             ReLU-79          [-1, 728, 19, 19]               0\n",
      "             ReLU-80          [-1, 728, 19, 19]               0\n",
      "           Conv2d-81          [-1, 728, 19, 19]           6,552\n",
      "           Conv2d-82          [-1, 728, 19, 19]         529,984\n",
      "  SeparableConv2d-83          [-1, 728, 19, 19]               0\n",
      "      BatchNorm2d-84          [-1, 728, 19, 19]           1,456\n",
      "            Block-85          [-1, 728, 19, 19]               0\n",
      "             ReLU-86          [-1, 728, 19, 19]               0\n",
      "           Conv2d-87          [-1, 728, 19, 19]           6,552\n",
      "           Conv2d-88          [-1, 728, 19, 19]         529,984\n",
      "  SeparableConv2d-89          [-1, 728, 19, 19]               0\n",
      "      BatchNorm2d-90          [-1, 728, 19, 19]           1,456\n",
      "             ReLU-91          [-1, 728, 19, 19]               0\n",
      "             ReLU-92          [-1, 728, 19, 19]               0\n",
      "           Conv2d-93          [-1, 728, 19, 19]           6,552\n",
      "           Conv2d-94          [-1, 728, 19, 19]         529,984\n",
      "  SeparableConv2d-95          [-1, 728, 19, 19]               0\n",
      "      BatchNorm2d-96          [-1, 728, 19, 19]           1,456\n",
      "             ReLU-97          [-1, 728, 19, 19]               0\n",
      "             ReLU-98          [-1, 728, 19, 19]               0\n",
      "           Conv2d-99          [-1, 728, 19, 19]           6,552\n",
      "          Conv2d-100          [-1, 728, 19, 19]         529,984\n",
      " SeparableConv2d-101          [-1, 728, 19, 19]               0\n",
      "     BatchNorm2d-102          [-1, 728, 19, 19]           1,456\n",
      "           Block-103          [-1, 728, 19, 19]               0\n",
      "            ReLU-104          [-1, 728, 19, 19]               0\n",
      "          Conv2d-105          [-1, 728, 19, 19]           6,552\n",
      "          Conv2d-106          [-1, 728, 19, 19]         529,984\n",
      " SeparableConv2d-107          [-1, 728, 19, 19]               0\n",
      "     BatchNorm2d-108          [-1, 728, 19, 19]           1,456\n",
      "            ReLU-109          [-1, 728, 19, 19]               0\n",
      "            ReLU-110          [-1, 728, 19, 19]               0\n",
      "          Conv2d-111          [-1, 728, 19, 19]           6,552\n",
      "          Conv2d-112          [-1, 728, 19, 19]         529,984\n",
      " SeparableConv2d-113          [-1, 728, 19, 19]               0\n",
      "     BatchNorm2d-114          [-1, 728, 19, 19]           1,456\n",
      "            ReLU-115          [-1, 728, 19, 19]               0\n",
      "            ReLU-116          [-1, 728, 19, 19]               0\n",
      "          Conv2d-117          [-1, 728, 19, 19]           6,552\n",
      "          Conv2d-118          [-1, 728, 19, 19]         529,984\n",
      " SeparableConv2d-119          [-1, 728, 19, 19]               0\n",
      "     BatchNorm2d-120          [-1, 728, 19, 19]           1,456\n",
      "           Block-121          [-1, 728, 19, 19]               0\n",
      "            ReLU-122          [-1, 728, 19, 19]               0\n",
      "          Conv2d-123          [-1, 728, 19, 19]           6,552\n",
      "          Conv2d-124          [-1, 728, 19, 19]         529,984\n",
      " SeparableConv2d-125          [-1, 728, 19, 19]               0\n",
      "     BatchNorm2d-126          [-1, 728, 19, 19]           1,456\n",
      "            ReLU-127          [-1, 728, 19, 19]               0\n",
      "            ReLU-128          [-1, 728, 19, 19]               0\n",
      "          Conv2d-129          [-1, 728, 19, 19]           6,552\n",
      "          Conv2d-130          [-1, 728, 19, 19]         529,984\n",
      " SeparableConv2d-131          [-1, 728, 19, 19]               0\n",
      "     BatchNorm2d-132          [-1, 728, 19, 19]           1,456\n",
      "            ReLU-133          [-1, 728, 19, 19]               0\n",
      "            ReLU-134          [-1, 728, 19, 19]               0\n",
      "          Conv2d-135          [-1, 728, 19, 19]           6,552\n",
      "          Conv2d-136          [-1, 728, 19, 19]         529,984\n",
      " SeparableConv2d-137          [-1, 728, 19, 19]               0\n",
      "     BatchNorm2d-138          [-1, 728, 19, 19]           1,456\n",
      "           Block-139          [-1, 728, 19, 19]               0\n",
      "            ReLU-140          [-1, 728, 19, 19]               0\n",
      "          Conv2d-141          [-1, 728, 19, 19]           6,552\n",
      "          Conv2d-142          [-1, 728, 19, 19]         529,984\n",
      " SeparableConv2d-143          [-1, 728, 19, 19]               0\n",
      "     BatchNorm2d-144          [-1, 728, 19, 19]           1,456\n",
      "            ReLU-145          [-1, 728, 19, 19]               0\n",
      "            ReLU-146          [-1, 728, 19, 19]               0\n",
      "          Conv2d-147          [-1, 728, 19, 19]           6,552\n",
      "          Conv2d-148          [-1, 728, 19, 19]         529,984\n",
      " SeparableConv2d-149          [-1, 728, 19, 19]               0\n",
      "     BatchNorm2d-150          [-1, 728, 19, 19]           1,456\n",
      "            ReLU-151          [-1, 728, 19, 19]               0\n",
      "            ReLU-152          [-1, 728, 19, 19]               0\n",
      "          Conv2d-153          [-1, 728, 19, 19]           6,552\n",
      "          Conv2d-154          [-1, 728, 19, 19]         529,984\n",
      " SeparableConv2d-155          [-1, 728, 19, 19]               0\n",
      "     BatchNorm2d-156          [-1, 728, 19, 19]           1,456\n",
      "           Block-157          [-1, 728, 19, 19]               0\n",
      "            ReLU-158          [-1, 728, 19, 19]               0\n",
      "          Conv2d-159          [-1, 728, 19, 19]           6,552\n",
      "          Conv2d-160          [-1, 728, 19, 19]         529,984\n",
      " SeparableConv2d-161          [-1, 728, 19, 19]               0\n",
      "     BatchNorm2d-162          [-1, 728, 19, 19]           1,456\n",
      "            ReLU-163          [-1, 728, 19, 19]               0\n",
      "            ReLU-164          [-1, 728, 19, 19]               0\n",
      "          Conv2d-165          [-1, 728, 19, 19]           6,552\n",
      "          Conv2d-166          [-1, 728, 19, 19]         529,984\n",
      " SeparableConv2d-167          [-1, 728, 19, 19]               0\n",
      "     BatchNorm2d-168          [-1, 728, 19, 19]           1,456\n",
      "            ReLU-169          [-1, 728, 19, 19]               0\n",
      "            ReLU-170          [-1, 728, 19, 19]               0\n",
      "          Conv2d-171          [-1, 728, 19, 19]           6,552\n",
      "          Conv2d-172          [-1, 728, 19, 19]         529,984\n",
      " SeparableConv2d-173          [-1, 728, 19, 19]               0\n",
      "     BatchNorm2d-174          [-1, 728, 19, 19]           1,456\n",
      "           Block-175          [-1, 728, 19, 19]               0\n",
      "            ReLU-176          [-1, 728, 19, 19]               0\n",
      "          Conv2d-177          [-1, 728, 19, 19]           6,552\n",
      "          Conv2d-178          [-1, 728, 19, 19]         529,984\n",
      " SeparableConv2d-179          [-1, 728, 19, 19]               0\n",
      "     BatchNorm2d-180          [-1, 728, 19, 19]           1,456\n",
      "            ReLU-181          [-1, 728, 19, 19]               0\n",
      "            ReLU-182          [-1, 728, 19, 19]               0\n",
      "          Conv2d-183          [-1, 728, 19, 19]           6,552\n",
      "          Conv2d-184          [-1, 728, 19, 19]         529,984\n",
      " SeparableConv2d-185          [-1, 728, 19, 19]               0\n",
      "     BatchNorm2d-186          [-1, 728, 19, 19]           1,456\n",
      "            ReLU-187          [-1, 728, 19, 19]               0\n",
      "            ReLU-188          [-1, 728, 19, 19]               0\n",
      "          Conv2d-189          [-1, 728, 19, 19]           6,552\n",
      "          Conv2d-190          [-1, 728, 19, 19]         529,984\n",
      " SeparableConv2d-191          [-1, 728, 19, 19]               0\n",
      "     BatchNorm2d-192          [-1, 728, 19, 19]           1,456\n",
      "           Block-193          [-1, 728, 19, 19]               0\n",
      "            ReLU-194          [-1, 728, 19, 19]               0\n",
      "          Conv2d-195          [-1, 728, 19, 19]           6,552\n",
      "          Conv2d-196          [-1, 728, 19, 19]         529,984\n",
      " SeparableConv2d-197          [-1, 728, 19, 19]               0\n",
      "     BatchNorm2d-198          [-1, 728, 19, 19]           1,456\n",
      "            ReLU-199          [-1, 728, 19, 19]               0\n",
      "            ReLU-200          [-1, 728, 19, 19]               0\n",
      "          Conv2d-201          [-1, 728, 19, 19]           6,552\n",
      "          Conv2d-202         [-1, 1024, 19, 19]         745,472\n",
      " SeparableConv2d-203         [-1, 1024, 19, 19]               0\n",
      "     BatchNorm2d-204         [-1, 1024, 19, 19]           2,048\n",
      "       MaxPool2d-205         [-1, 1024, 10, 10]               0\n",
      "          Conv2d-206         [-1, 1024, 10, 10]         745,472\n",
      "     BatchNorm2d-207         [-1, 1024, 10, 10]           2,048\n",
      "           Block-208         [-1, 1024, 10, 10]               0\n",
      "          Conv2d-209         [-1, 1024, 10, 10]           9,216\n",
      "          Conv2d-210         [-1, 1536, 10, 10]       1,572,864\n",
      " SeparableConv2d-211         [-1, 1536, 10, 10]               0\n",
      "     BatchNorm2d-212         [-1, 1536, 10, 10]           3,072\n",
      "          Conv2d-213         [-1, 1536, 10, 10]          13,824\n",
      "          Conv2d-214         [-1, 2048, 10, 10]       3,145,728\n",
      " SeparableConv2d-215         [-1, 2048, 10, 10]               0\n",
      "     BatchNorm2d-216         [-1, 2048, 10, 10]           4,096\n",
      "AdaptiveAvgPool2d-217           [-1, 2048, 1, 1]               0\n",
      "          Linear-218                  [-1, 120]         245,880\n",
      "================================================================\n",
      "Total params: 21,052,832\n",
      "Trainable params: 21,052,832\n",
      "Non-trainable params: 0\n",
      "----------------------------------------------------------------\n",
      "Input size (MB): 1.02\n",
      "Forward/backward pass size (MB): 785.21\n",
      "Params size (MB): 80.31\n",
      "Estimated Total Size (MB): 866.54\n",
      "----------------------------------------------------------------\n"
     ]
    }
   ],
   "source": [
    "from torchsummary import summary\n",
    "summary(model.cuda(), (3, 299, 299))"
   ]
  },
  {
   "cell_type": "code",
   "execution_count": 6,
   "metadata": {},
   "outputs": [],
   "source": [
    "# get class name\n",
    "train_data = datasets.ImageFolder('data/train')\n",
    "class_dir=train_data.class_to_idx\n",
    "class_list=list(class_dir.keys())\n",
    "#print(class_list)"
   ]
  },
  {
   "cell_type": "code",
   "execution_count": 7,
   "metadata": {},
   "outputs": [],
   "source": [
    "image_path=\"data/predict_image\""
   ]
  },
  {
   "cell_type": "code",
   "execution_count": 8,
   "metadata": {},
   "outputs": [],
   "source": [
    "images = os.listdir(image_path)"
   ]
  },
  {
   "cell_type": "code",
   "execution_count": 9,
   "metadata": {},
   "outputs": [],
   "source": [
    "def returnTopN_Predict(images,model,n=5):\n",
    "    img_tensor = preprocess(images).float()\n",
    "    img_tensor = img_tensor.unsqueeze_(0)\n",
    "    img_tensor=img_tensor.cuda()\n",
    "    fc_out = model(Variable(img_tensor))\n",
    "    output = fc_out.detach().cpu().numpy()\n",
    "    \n",
    "    temp=sorted(range(len(output[0])), key=lambda i: output[0][i])[-n:]\n",
    "    temp.reverse()\n",
    "    top_n_result=[]\n",
    "    for i in (temp):\n",
    "        temp2=(i,output[0][i])\n",
    "        top_n_result.append(temp2)\n",
    "    return top_n_result"
   ]
  },
  {
   "cell_type": "code",
   "execution_count": 10,
   "metadata": {
    "scrolled": false
   },
   "outputs": [
    {
     "name": "stdout",
     "output_type": "stream",
     "text": [
      "n02096585-Boston_bull : 15.918811\n",
      "n02108089-boxer : 13.5808525\n",
      "n02108915-French_bulldog : 12.545463\n",
      "n02110627-affenpinscher : 9.636368\n",
      "n02110958-pug : 8.576941\n",
      "========\n"
     ]
    }
   ],
   "source": [
    "# convert data to a normalized torch.FloatTensor\n",
    "preprocess = transforms.Compose([transforms.Resize(IMAGE_SIZE),\n",
    "                                      transforms.ToTensor(),\n",
    "                                      transforms.Normalize([0.485, 0.456, 0.406],\n",
    "                                                           [0.229, 0.224, 0.225])])\n",
    "from PIL import Image\n",
    "for img_name in images:\n",
    "    # An instance of your model.\n",
    "    img_pil = Image.open(image_path+\"/\"+img_name)\n",
    "    res=returnTopN_Predict(img_pil,model)\n",
    "    for i in res:\n",
    "        print(class_list[i[0]],':',i[1])\n",
    "    print('========')\n",
    "    break"
   ]
  },
  {
   "cell_type": "code",
   "execution_count": 11,
   "metadata": {},
   "outputs": [
    {
     "data": {
      "text/plain": [
       "[(44, 15.918811),\n",
       " (91, 13.5808525),\n",
       " (94, 12.545463),\n",
       " (100, 9.636368),\n",
       " (102, 8.576941)]"
      ]
     },
     "execution_count": 11,
     "metadata": {},
     "output_type": "execute_result"
    }
   ],
   "source": [
    "res"
   ]
  },
  {
   "cell_type": "code",
   "execution_count": 13,
   "metadata": {},
   "outputs": [
    {
     "data": {
      "image/png": "[encoded data removed]",
      "text/plain": [
       "<Figure size 432x288 with 1 Axes>"
      ]
     },
     "metadata": {},
     "output_type": "display_data"
    }
   ],
   "source": [
    "labels = ['Self-employed', 'Works at tech company', 'Has a tech role in non-tech company', 'Has a non-tech role at a non-tech company']\n",
    "sizes = [10,20,30,40]\n",
    "# print(sizes) # adds up to 1433, which is the total number of participants\n",
    "fig1, ax1 = plt.subplots()\n",
    "ax1.pie(sizes, labels=labels, autopct='%1.1f%%', shadow=True)\n",
    "ax1.axis('equal')\n",
    "plt.show()"
   ]
  },
  {
   "cell_type": "code",
   "execution_count": null,
   "metadata": {},
   "outputs": [],
   "source": []
  },
  {
   "cell_type": "code",
   "execution_count": 11,
   "metadata": {},
   "outputs": [],
   "source": [
    "# evulate score"
   ]
  },
  {
   "cell_type": "code",
   "execution_count": 12,
   "metadata": {},
   "outputs": [],
   "source": [
    "def test(loaders, model, criterion, use_cuda):\n",
    "\n",
    "    # monitor test loss and accuracy\n",
    "    test_loss = 0.\n",
    "    correct = 0.\n",
    "    total = 0.\n",
    "\n",
    "    model.eval()\n",
    "    for batch_idx, (data, target) in enumerate(loaders):\n",
    "        # move to GPU\n",
    "        if use_cuda:\n",
    "            data, target = data.cuda(), target.cuda()\n",
    "        # forward pass: compute predicted outputs by passing inputs to the model\n",
    "        output = model(data)\n",
    "        # calculate the loss\n",
    "        loss = criterion(output, target)\n",
    "        # update average test loss \n",
    "        test_loss = test_loss + ((1 / (batch_idx + 1)) * (loss.data - test_loss))\n",
    "        # convert output probabilities to predicted class\n",
    "        pred = output.data.max(1, keepdim=True)[1]\n",
    "        # compare predictions to true label\n",
    "        correct += np.sum(np.squeeze(pred.eq(target.data.view_as(pred))).cpu().numpy())\n",
    "        total += data.size(0)\n",
    "            \n",
    "    print('Test Loss: {:.6f}'.format(test_loss))\n",
    "\n",
    "    print('Test Accuracy: %2d%% (%2d/%2d)' % (\n",
    "        100. * correct / total, correct, total))"
   ]
  },
  {
   "cell_type": "code",
   "execution_count": 13,
   "metadata": {},
   "outputs": [],
   "source": [
    "test_transforms = transforms.Compose([transforms.Resize(IMAGE_SIZE),\n",
    "                                      transforms.ToTensor(),\n",
    "                                      transforms.Normalize([0.485, 0.456, 0.406],\n",
    "                                                           [0.229, 0.224, 0.225])])"
   ]
  },
  {
   "cell_type": "code",
   "execution_count": 14,
   "metadata": {},
   "outputs": [],
   "source": [
    "test_data = datasets.ImageFolder('data/test', transform=test_transforms)"
   ]
  },
  {
   "cell_type": "code",
   "execution_count": 45,
   "metadata": {},
   "outputs": [],
   "source": [
    "BATCH_SIZE=1\n",
    "test_loader = torch.utils.data.DataLoader(test_data, batch_size=BATCH_SIZE)"
   ]
  },
  {
   "cell_type": "code",
   "execution_count": 48,
   "metadata": {},
   "outputs": [
    {
     "name": "stdout",
     "output_type": "stream",
     "text": [
      "Test Loss: 1.412954\n",
      "Test Accuracy: 92% (1104/1200)\n"
     ]
    }
   ],
   "source": [
    "loss_func = nn.CrossEntropyLoss()   # the target label is not one-hotted\n",
    "use_cuda = torch.cuda.is_available()\n",
    "test_v2(test_loader, model, loss_func, use_cuda,n=5)"
   ]
  },
  {
   "cell_type": "code",
   "execution_count": 43,
   "metadata": {},
   "outputs": [],
   "source": [
    "def test_v2(loaders, model, criterion, use_cuda,n=5):\n",
    "\n",
    "    # monitor test loss and accuracy\n",
    "    test_loss = 0.\n",
    "    correct = 0.\n",
    "    total = 0.\n",
    "\n",
    "    model.eval()\n",
    "    for batch_idx, (data, target) in enumerate(loaders):\n",
    "        if(len(data)!=1):\n",
    "            raise Exception('Unsupport batch_size>1 !')\n",
    "        # move to GPU\n",
    "        if use_cuda:\n",
    "            data, target = data.cuda(), target.cuda()\n",
    "        # forward pass: compute predicted outputs by passing inputs to the model\n",
    "        output = model(data)\n",
    "        output2 = output.detach().cpu().numpy()\n",
    "        # calculate the loss\n",
    "        loss = criterion(output, target)\n",
    "        # update average test loss \n",
    "        test_loss = test_loss + ((1 / (batch_idx + 1)) * (loss.data - test_loss))\n",
    "        # convert output probabilities to predicted class\n",
    "        pred = output.data.max(1, keepdim=True)[1]\n",
    "        # compare predictions to true label\n",
    "\n",
    "        temp=sorted(range(len(output2[0])), key=lambda i: output2[0][i])[-n:]\n",
    "        temp.reverse()\n",
    "        #top_n_result=[]\n",
    "        target_=target.detach().cpu().numpy()\n",
    "        #print(\"target:\",target_)\n",
    "        for i in (temp):\n",
    "            #temp2=(i,output2[0][i])\n",
    "            #top_n_result.append(temp2)\n",
    "            if(i==target_[0]):\n",
    "                correct+=1\n",
    "                break\n",
    "        #print(top_n_result)\n",
    "        #for i in \n",
    "        #correct += np.sum(np.squeeze(pred.eq(target.data.view_as(pred))).cpu().numpy())\n",
    "        total += data.size(0)\n",
    "            \n",
    "    print('Test Loss: {:.6f}'.format(test_loss))\n",
    "\n",
    "    print('Test Accuracy: %2d%% (%2d/%2d)' % (\n",
    "        100. * correct / total, correct, total))"
   ]
  },
  {
   "cell_type": "code",
   "execution_count": null,
   "metadata": {},
   "outputs": [],
   "source": []
  }
 ],
 "metadata": {
  "kernelspec": {
   "display_name": "python_yolo",
   "language": "python",
   "name": "python_yolo"
  },
  "language_info": {
   "codemirror_mode": {
    "name": "ipython",
    "version": 3
   },
   "file_extension": ".py",
   "mimetype": "text/x-python",
   "name": "python",
   "nbconvert_exporter": "python",
   "pygments_lexer": "ipython3",
   "version": "3.7.9"
  }
 },
 "nbformat": 4,
 "nbformat_minor": 4
}
