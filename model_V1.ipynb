{
 "cells": [
  {
   "cell_type": "code",
   "execution_count": 1,
   "metadata": {},
   "outputs": [],
   "source": [
    "import os\n",
    "import numpy as np\n",
    "from tqdm import tqdm\n",
    "from glob import glob\n",
    "from PIL import Image\n",
    "import cv2                \n",
    "import matplotlib.pyplot as plt                        \n",
    "%matplotlib inline"
   ]
  },
  {
   "cell_type": "code",
   "execution_count": 2,
   "metadata": {},
   "outputs": [
    {
     "data": {
      "text/plain": [
       "\"img_size = 299  #根据实际情况可修改\\ntrain_path = 'data/images/train'  #根据自己的目录修改\\nnub_train = len(glob(train_path + '/*/*.jpg'))\\n#先生成空array，然后往里填每张图片的array\\nX_train = np.zeros((nub_train,img_size,img_size,3),dtype=np.uint8) \\n#y_train = np.zeros((nub_train,),dtype=np.uint8)\\n\\ni = 0\\nfor img_path in tqdm(glob(train_path + '/*/*.jpg')):\\n    img = Image.open(img_path)\\n    img = img.resize((img_size,img_size)) #图片resize\\n    arr = np.asarray(img)  #图片转array\\n    X_train[i, :, :, :] = arr #赋值\\n    i += 1\""
      ]
     },
     "execution_count": 2,
     "metadata": {},
     "output_type": "execute_result"
    }
   ],
   "source": [
    "'''img_size = 299  #根据实际情况可修改\n",
    "train_path = 'data/images/train'  #根据自己的目录修改\n",
    "nub_train = len(glob(train_path + '/*/*.jpg'))\n",
    "#先生成空array，然后往里填每张图片的array\n",
    "X_train = np.zeros((nub_train,img_size,img_size,3),dtype=np.uint8) \n",
    "#y_train = np.zeros((nub_train,),dtype=np.uint8)\n",
    "\n",
    "i = 0\n",
    "for img_path in tqdm(glob(train_path + '/*/*.jpg')):\n",
    "    img = Image.open(img_path)\n",
    "    img = img.resize((img_size,img_size)) #图片resize\n",
    "    arr = np.asarray(img)  #图片转array\n",
    "    X_train[i, :, :, :] = arr #赋值\n",
    "    i += 1'''"
   ]
  },
  {
   "cell_type": "code",
   "execution_count": 3,
   "metadata": {},
   "outputs": [
    {
     "data": {
      "text/plain": [
       "'fig,axes = plt.subplots(5,5,figsize=(20, 20))\\n\\nj = 0\\nfor i,img in enumerate(X_train[:25]):\\n    axes[i//5,j%5].imshow(img)\\n    j+=1'"
      ]
     },
     "execution_count": 3,
     "metadata": {},
     "output_type": "execute_result"
    }
   ],
   "source": [
    "'''fig,axes = plt.subplots(5,5,figsize=(20, 20))\n",
    "\n",
    "j = 0\n",
    "for i,img in enumerate(X_train[:25]):\n",
    "    axes[i//5,j%5].imshow(img)\n",
    "    j+=1'''"
   ]
  },
  {
   "cell_type": "markdown",
   "metadata": {},
   "source": [
    "# 建立label標記"
   ]
  },
  {
   "cell_type": "code",
   "execution_count": 4,
   "metadata": {},
   "outputs": [],
   "source": [
    "train_path='data/images/train'"
   ]
  },
  {
   "cell_type": "code",
   "execution_count": 5,
   "metadata": {},
   "outputs": [],
   "source": [
    "list_1=os.listdir(train_path)"
   ]
  },
  {
   "cell_type": "code",
   "execution_count": 6,
   "metadata": {},
   "outputs": [
    {
     "name": "stdout",
     "output_type": "stream",
     "text": [
      "Chihuahua\n",
      "Japanese_spaniel\n",
      "Maltese_dog\n",
      "Pekinese\n",
      "Shih\n",
      "Blenheim_spaniel\n",
      "papillon\n",
      "toy_terrier\n",
      "Rhodesian_ridgeback\n",
      "Afghan_hound\n",
      "basset\n",
      "beagle\n",
      "bloodhound\n",
      "bluetick\n",
      "black\n",
      "Walker_hound\n",
      "English_foxhound\n",
      "redbone\n",
      "borzoi\n",
      "Irish_wolfhound\n",
      "Italian_greyhound\n",
      "whippet\n",
      "Ibizan_hound\n",
      "Norwegian_elkhound\n",
      "otterhound\n",
      "Saluki\n",
      "Scottish_deerhound\n",
      "Weimaraner\n",
      "Staffordshire_bullterrier\n",
      "American_Staffordshire_terrier\n",
      "Bedlington_terrier\n",
      "Border_terrier\n",
      "Kerry_blue_terrier\n",
      "Irish_terrier\n",
      "Norfolk_terrier\n",
      "Norwich_terrier\n",
      "Yorkshire_terrier\n",
      "wire\n",
      "Lakeland_terrier\n",
      "Sealyham_terrier\n",
      "Airedale\n",
      "cairn\n",
      "Australian_terrier\n",
      "Dandie_Dinmont\n",
      "Boston_bull\n",
      "miniature_schnauzer\n",
      "giant_schnauzer\n",
      "standard_schnauzer\n",
      "Scotch_terrier\n",
      "Tibetan_terrier\n",
      "silky_terrier\n",
      "soft\n",
      "West_Highland_white_terrier\n",
      "Lhasa\n",
      "flat\n",
      "curly\n",
      "golden_retriever\n",
      "Labrador_retriever\n",
      "Chesapeake_Bay_retriever\n",
      "German_short\n",
      "vizsla\n",
      "English_setter\n",
      "Irish_setter\n",
      "Gordon_setter\n",
      "Brittany_spaniel\n",
      "clumber\n",
      "English_springer\n",
      "Welsh_springer_spaniel\n",
      "cocker_spaniel\n",
      "Sussex_spaniel\n",
      "Irish_water_spaniel\n",
      "kuvasz\n",
      "schipperke\n",
      "groenendael\n",
      "malinois\n",
      "briard\n",
      "kelpie\n",
      "komondor\n",
      "Old_English_sheepdog\n",
      "Shetland_sheepdog\n",
      "collie\n",
      "Border_collie\n",
      "Bouvier_des_Flandres\n",
      "Rottweiler\n",
      "German_shepherd\n",
      "Doberman\n",
      "miniature_pinscher\n",
      "Greater_Swiss_Mountain_dog\n",
      "Bernese_mountain_dog\n",
      "Appenzeller\n",
      "EntleBucher\n",
      "boxer\n",
      "bull_mastiff\n",
      "Tibetan_mastiff\n",
      "French_bulldog\n",
      "Great_Dane\n",
      "Saint_Bernard\n",
      "Eskimo_dog\n",
      "malamute\n",
      "Siberian_husky\n",
      "affenpinscher\n",
      "basenji\n",
      "pug\n",
      "Leonberg\n",
      "Newfoundland\n",
      "Great_Pyrenees\n",
      "Samoyed\n",
      "Pomeranian\n",
      "chow\n",
      "keeshond\n",
      "Brabancon_griffon\n",
      "Pembroke\n",
      "Cardigan\n",
      "toy_poodle\n",
      "miniature_poodle\n",
      "standard_poodle\n",
      "Mexican_hairless\n",
      "dingo\n",
      "dhole\n",
      "African_hunting_dog\n"
     ]
    }
   ],
   "source": [
    "DogBreedDir={}\n",
    "count=0\n",
    "for i in list_1:\n",
    "    print(i.split(\"-\")[1])\n",
    "    DogBreedDir[i.split(\"-\")[1]]=count\n",
    "    count+=1"
   ]
  },
  {
   "cell_type": "code",
   "execution_count": 7,
   "metadata": {},
   "outputs": [
    {
     "data": {
      "text/plain": [
       "{'Chihuahua': 0,\n",
       " 'Japanese_spaniel': 1,\n",
       " 'Maltese_dog': 2,\n",
       " 'Pekinese': 3,\n",
       " 'Shih': 4,\n",
       " 'Blenheim_spaniel': 5,\n",
       " 'papillon': 6,\n",
       " 'toy_terrier': 7,\n",
       " 'Rhodesian_ridgeback': 8,\n",
       " 'Afghan_hound': 9,\n",
       " 'basset': 10,\n",
       " 'beagle': 11,\n",
       " 'bloodhound': 12,\n",
       " 'bluetick': 13,\n",
       " 'black': 14,\n",
       " 'Walker_hound': 15,\n",
       " 'English_foxhound': 16,\n",
       " 'redbone': 17,\n",
       " 'borzoi': 18,\n",
       " 'Irish_wolfhound': 19,\n",
       " 'Italian_greyhound': 20,\n",
       " 'whippet': 21,\n",
       " 'Ibizan_hound': 22,\n",
       " 'Norwegian_elkhound': 23,\n",
       " 'otterhound': 24,\n",
       " 'Saluki': 25,\n",
       " 'Scottish_deerhound': 26,\n",
       " 'Weimaraner': 27,\n",
       " 'Staffordshire_bullterrier': 28,\n",
       " 'American_Staffordshire_terrier': 29,\n",
       " 'Bedlington_terrier': 30,\n",
       " 'Border_terrier': 31,\n",
       " 'Kerry_blue_terrier': 32,\n",
       " 'Irish_terrier': 33,\n",
       " 'Norfolk_terrier': 34,\n",
       " 'Norwich_terrier': 35,\n",
       " 'Yorkshire_terrier': 36,\n",
       " 'wire': 37,\n",
       " 'Lakeland_terrier': 38,\n",
       " 'Sealyham_terrier': 39,\n",
       " 'Airedale': 40,\n",
       " 'cairn': 41,\n",
       " 'Australian_terrier': 42,\n",
       " 'Dandie_Dinmont': 43,\n",
       " 'Boston_bull': 44,\n",
       " 'miniature_schnauzer': 45,\n",
       " 'giant_schnauzer': 46,\n",
       " 'standard_schnauzer': 47,\n",
       " 'Scotch_terrier': 48,\n",
       " 'Tibetan_terrier': 49,\n",
       " 'silky_terrier': 50,\n",
       " 'soft': 51,\n",
       " 'West_Highland_white_terrier': 52,\n",
       " 'Lhasa': 53,\n",
       " 'flat': 54,\n",
       " 'curly': 55,\n",
       " 'golden_retriever': 56,\n",
       " 'Labrador_retriever': 57,\n",
       " 'Chesapeake_Bay_retriever': 58,\n",
       " 'German_short': 59,\n",
       " 'vizsla': 60,\n",
       " 'English_setter': 61,\n",
       " 'Irish_setter': 62,\n",
       " 'Gordon_setter': 63,\n",
       " 'Brittany_spaniel': 64,\n",
       " 'clumber': 65,\n",
       " 'English_springer': 66,\n",
       " 'Welsh_springer_spaniel': 67,\n",
       " 'cocker_spaniel': 68,\n",
       " 'Sussex_spaniel': 69,\n",
       " 'Irish_water_spaniel': 70,\n",
       " 'kuvasz': 71,\n",
       " 'schipperke': 72,\n",
       " 'groenendael': 73,\n",
       " 'malinois': 74,\n",
       " 'briard': 75,\n",
       " 'kelpie': 76,\n",
       " 'komondor': 77,\n",
       " 'Old_English_sheepdog': 78,\n",
       " 'Shetland_sheepdog': 79,\n",
       " 'collie': 80,\n",
       " 'Border_collie': 81,\n",
       " 'Bouvier_des_Flandres': 82,\n",
       " 'Rottweiler': 83,\n",
       " 'German_shepherd': 84,\n",
       " 'Doberman': 85,\n",
       " 'miniature_pinscher': 86,\n",
       " 'Greater_Swiss_Mountain_dog': 87,\n",
       " 'Bernese_mountain_dog': 88,\n",
       " 'Appenzeller': 89,\n",
       " 'EntleBucher': 90,\n",
       " 'boxer': 91,\n",
       " 'bull_mastiff': 92,\n",
       " 'Tibetan_mastiff': 93,\n",
       " 'French_bulldog': 94,\n",
       " 'Great_Dane': 95,\n",
       " 'Saint_Bernard': 96,\n",
       " 'Eskimo_dog': 97,\n",
       " 'malamute': 98,\n",
       " 'Siberian_husky': 99,\n",
       " 'affenpinscher': 100,\n",
       " 'basenji': 101,\n",
       " 'pug': 102,\n",
       " 'Leonberg': 103,\n",
       " 'Newfoundland': 104,\n",
       " 'Great_Pyrenees': 105,\n",
       " 'Samoyed': 106,\n",
       " 'Pomeranian': 107,\n",
       " 'chow': 108,\n",
       " 'keeshond': 109,\n",
       " 'Brabancon_griffon': 110,\n",
       " 'Pembroke': 111,\n",
       " 'Cardigan': 112,\n",
       " 'toy_poodle': 113,\n",
       " 'miniature_poodle': 114,\n",
       " 'standard_poodle': 115,\n",
       " 'Mexican_hairless': 116,\n",
       " 'dingo': 117,\n",
       " 'dhole': 118,\n",
       " 'African_hunting_dog': 119}"
      ]
     },
     "execution_count": 7,
     "metadata": {},
     "output_type": "execute_result"
    }
   ],
   "source": [
    "DogBreedDir"
   ]
  },
  {
   "cell_type": "markdown",
   "metadata": {},
   "source": [
    "# 依照品種讀取狗狗圖片"
   ]
  },
  {
   "cell_type": "code",
   "execution_count": null,
   "metadata": {},
   "outputs": [],
   "source": [
    "list_1"
   ]
  },
  {
   "cell_type": "code",
   "execution_count": null,
   "metadata": {},
   "outputs": [],
   "source": [
    "All_Picture={}\n",
    "img_size = 299  #根据实际情况可修改\n",
    "train_path = 'data/images/train'  #根据自己的目录修改\n",
    "\n",
    "for file in list_1:\n",
    "    nub_train = len(glob(train_path + '/'+file+'/*.jpg'))\n",
    "    X_train = np.zeros((nub_train,img_size,img_size,3),dtype=np.uint8)\n",
    "    i = 0\n",
    "    print(file)\n",
    "    for img_path in tqdm(glob(train_path + '/'+file+'/*.jpg')):\n",
    "        img = Image.open(img_path)\n",
    "        img = img.resize((img_size,img_size)) #图片resize\n",
    "        arr = np.asarray(img)  #图片转array\n",
    "        X_train[i, :, :, :] = arr #赋值\n",
    "        i += 1\n",
    "    All_Picture[file.split('-')[1]]=X_train"
   ]
  },
  {
   "cell_type": "code",
   "execution_count": null,
   "metadata": {},
   "outputs": [],
   "source": [
    "All_Picture"
   ]
  },
  {
   "cell_type": "code",
   "execution_count": null,
   "metadata": {},
   "outputs": [],
   "source": [
    "fig,axes = plt.subplots(5,5,figsize=(20, 20))\n",
    "\n",
    "j = 0\n",
    "for i,img in enumerate(All_Picture['toy_poodle'][:25]):\n",
    "    axes[i//5,j%5].imshow(img)\n",
    "    j+=1"
   ]
  },
  {
   "cell_type": "code",
   "execution_count": null,
   "metadata": {},
   "outputs": [],
   "source": [
    "All_Picture.keys()"
   ]
  },
  {
   "cell_type": "code",
   "execution_count": null,
   "metadata": {},
   "outputs": [],
   "source": [
    "plt.imshow(All_Picture['dhole'][0])"
   ]
  },
  {
   "cell_type": "markdown",
   "metadata": {},
   "source": [
    "# 建立一個卷積網路Model"
   ]
  },
  {
   "cell_type": "code",
   "execution_count": null,
   "metadata": {},
   "outputs": [],
   "source": [
    "from keras import layers\n",
    "from keras import models\n",
    "\n",
    "model=models.Sequential()\n",
    "model.add(layers.Conv2D(32,(3,3),activation='relu',input_shape=(299,299,3)))\n",
    "model.add(layers.MaxPooling2D((2,2)))\n",
    "model.add(layers.Conv2D(64,(3,3),activation='relu'))\n",
    "model.add(layers.MaxPooling2D((2,2)))\n",
    "model.add(layers.Conv2D(64,(3,3),activation='relu'))\n",
    "model.add(layers.MaxPooling2D((2,2)))\n",
    "model.add(layers.Conv2D(64,(3,3),activation='relu'))\n",
    "model.add(layers.MaxPooling2D((2,2)))\n",
    "model.add(layers.Conv2D(64,(3,3),activation='relu'))"
   ]
  },
  {
   "cell_type": "code",
   "execution_count": null,
   "metadata": {},
   "outputs": [],
   "source": [
    "model.add(layers.Flatten())\n",
    "model.add(layers.Dense(512,activation='relu'))\n",
    "model.add(layers.Dense(120,activation='softmax'))"
   ]
  },
  {
   "cell_type": "code",
   "execution_count": null,
   "metadata": {},
   "outputs": [],
   "source": [
    "model.summary()"
   ]
  },
  {
   "cell_type": "code",
   "execution_count": null,
   "metadata": {},
   "outputs": [],
   "source": [
    "model.compile(optimizer='adam',\n",
    "              loss='categorical_crossentropy',\n",
    "              metrics=['accuracy'])"
   ]
  },
  {
   "cell_type": "markdown",
   "metadata": {},
   "source": [
    "# 資料預處理"
   ]
  },
  {
   "cell_type": "code",
   "execution_count": null,
   "metadata": {},
   "outputs": [],
   "source": [
    "AllData=[]\n",
    "AllData_Label=[]"
   ]
  },
  {
   "cell_type": "code",
   "execution_count": null,
   "metadata": {},
   "outputs": [],
   "source": [
    "AllBreed=All_Picture.keys()\n",
    "#DogBreedDir :種類與數字的對應"
   ]
  },
  {
   "cell_type": "code",
   "execution_count": null,
   "metadata": {},
   "outputs": [],
   "source": [
    "for i in AllBreed:\n",
    "    print(i,':',DogBreedDir[i])\n",
    "    temp=All_Picture[i]\n",
    "    for j in temp:\n",
    "        AllData.append(j)\n",
    "        AllData_Label.append(DogBreedDir[i])"
   ]
  },
  {
   "cell_type": "code",
   "execution_count": null,
   "metadata": {},
   "outputs": [],
   "source": [
    "AllData=np.array(AllData)\n",
    "AllData_Label=np.array(AllData_Label)"
   ]
  },
  {
   "cell_type": "code",
   "execution_count": null,
   "metadata": {},
   "outputs": [],
   "source": [
    "AllData.shape,AllData_Label.shape"
   ]
  },
  {
   "cell_type": "code",
   "execution_count": null,
   "metadata": {},
   "outputs": [],
   "source": [
    "#AllData=AllData/255"
   ]
  },
  {
   "cell_type": "code",
   "execution_count": null,
   "metadata": {},
   "outputs": [],
   "source": [
    "AllData"
   ]
  },
  {
   "cell_type": "code",
   "execution_count": null,
   "metadata": {},
   "outputs": [],
   "source": [
    "from keras.utils import np_utils\n",
    "AllData_Label = np_utils.to_categorical(AllData_Label, num_classes = 120)"
   ]
  },
  {
   "cell_type": "code",
   "execution_count": null,
   "metadata": {},
   "outputs": [],
   "source": [
    "AllData_Label"
   ]
  },
  {
   "cell_type": "markdown",
   "metadata": {},
   "source": [
    "# 將AllData 分成訓練集和測驗集"
   ]
  },
  {
   "cell_type": "code",
   "execution_count": null,
   "metadata": {},
   "outputs": [],
   "source": [
    "X_train=[]\n",
    "y_train=[]\n",
    "X_val=[]\n",
    "y_val=[]\n",
    "X_test=[]\n",
    "y_test=[]"
   ]
  },
  {
   "cell_type": "code",
   "execution_count": null,
   "metadata": {},
   "outputs": [],
   "source": [
    "len(AllData)"
   ]
  },
  {
   "cell_type": "code",
   "execution_count": null,
   "metadata": {},
   "outputs": [],
   "source": [
    "last=np.zeros(120)\n",
    "count=0\n",
    "for i in range(len(AllData)):\n",
    "    if(not(last==AllData_Label[i]).all()):\n",
    "        count=0\n",
    "        #print('diff')\n",
    "        last=AllData_Label[i]\n",
    "    #else:\n",
    "        #print('same')\n",
    "    if(count<10):\n",
    "        X_test.append(AllData[i])\n",
    "        y_test.append(AllData_Label[i])\n",
    "    elif(count<25):\n",
    "        X_val.append(AllData[i])\n",
    "        y_val.append(AllData_Label[i])\n",
    "    else:\n",
    "        X_train.append(AllData[i])\n",
    "        y_train.append(AllData_Label[i])\n",
    "    count+=1\n",
    "    #print(count)"
   ]
  },
  {
   "cell_type": "code",
   "execution_count": null,
   "metadata": {},
   "outputs": [],
   "source": [
    "X_train"
   ]
  },
  {
   "cell_type": "code",
   "execution_count": null,
   "metadata": {},
   "outputs": [],
   "source": [
    "X_train=np.array(X_train)\n",
    "y_train=np.array(y_train)\n",
    "X_val=np.array(X_val)\n",
    "y_val=np.array(y_val)\n",
    "X_test=np.array(X_test)\n",
    "y_test=np.array(y_test)"
   ]
  },
  {
   "cell_type": "code",
   "execution_count": null,
   "metadata": {},
   "outputs": [],
   "source": [
    "X_train=X_train/255"
   ]
  },
  {
   "cell_type": "code",
   "execution_count": null,
   "metadata": {},
   "outputs": [],
   "source": [
    "X_train=X_train/255\n",
    "X_val=X_val/255\n",
    "X_test=X_test/255"
   ]
  },
  {
   "cell_type": "code",
   "execution_count": null,
   "metadata": {},
   "outputs": [],
   "source": [
    "AllData_Label[0]"
   ]
  },
  {
   "cell_type": "markdown",
   "metadata": {},
   "source": [
    "# 訓練模型"
   ]
  },
  {
   "cell_type": "code",
   "execution_count": null,
   "metadata": {},
   "outputs": [],
   "source": [
    "len(X_train)"
   ]
  },
  {
   "cell_type": "code",
   "execution_count": null,
   "metadata": {},
   "outputs": [],
   "source": [
    "len(X_val)"
   ]
  },
  {
   "cell_type": "code",
   "execution_count": null,
   "metadata": {},
   "outputs": [],
   "source": [
    "epochs = 5\n",
    "\n",
    "history = model.fit(X_train, y_train,\n",
    "          validation_data=(X_val, y_val),\n",
    "          epochs=epochs,batch_size=128)"
   ]
  },
  {
   "cell_type": "code",
   "execution_count": null,
   "metadata": {},
   "outputs": [],
   "source": [
    "import matplotlib.pyplot as plt\n",
    "loss = history.history['loss']\n",
    "val_loss = history.history['val_loss']\n",
    "epochs = range(1, len(loss) + 1)\n",
    "plt.plot(epochs, loss, 'bo', label='Training loss')\n",
    "plt.plot(epochs, val_loss, 'b', label='Validation loss')\n",
    "plt.title('Training and validation loss')\n",
    "plt.xlabel('Epochs')\n",
    "plt.ylabel('Loss')\n",
    "plt.legend()\n",
    "plt.show()"
   ]
  },
  {
   "cell_type": "code",
   "execution_count": null,
   "metadata": {},
   "outputs": [],
   "source": [
    "plt.clf()\n",
    "acc = history.history['accuracy']\n",
    "val_acc = history.history['val_accuracy']\n",
    "plt.plot(epochs, acc, 'bo', label='Training acc')\n",
    "plt.plot(epochs, val_acc, 'b', label='Validation acc')\n",
    "plt.title('Training and validation accuracy')\n",
    "plt.xlabel('Epochs')\n",
    "plt.ylabel('Loss')\n",
    "plt.legend()\n",
    "plt.show()"
   ]
  },
  {
   "cell_type": "code",
   "execution_count": null,
   "metadata": {},
   "outputs": [],
   "source": [
    "val_acc"
   ]
  },
  {
   "cell_type": "code",
   "execution_count": null,
   "metadata": {},
   "outputs": [],
   "source": [
    "model.save('dog_model_2.h5')"
   ]
  },
  {
   "cell_type": "code",
   "execution_count": null,
   "metadata": {},
   "outputs": [],
   "source": []
  }
 ],
 "metadata": {
  "kernelspec": {
   "display_name": "Python 3",
   "language": "python",
   "name": "python3"
  },
  "language_info": {
   "codemirror_mode": {
    "name": "ipython",
    "version": 3
   },
   "file_extension": ".py",
   "mimetype": "text/x-python",
   "name": "python",
   "nbconvert_exporter": "python",
   "pygments_lexer": "ipython3",
   "version": "3.7.7"
  }
 },
 "nbformat": 4,
 "nbformat_minor": 4
}
