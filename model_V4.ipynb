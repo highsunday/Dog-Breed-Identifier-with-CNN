{
 "cells": [
  {
   "cell_type": "code",
   "execution_count": 1,
   "metadata": {},
   "outputs": [
    {
     "name": "stderr",
     "output_type": "stream",
     "text": [
      "Using TensorFlow backend.\n"
     ]
    }
   ],
   "source": [
    "from keras.applications import VGG16"
   ]
  },
  {
   "cell_type": "code",
   "execution_count": 2,
   "metadata": {},
   "outputs": [],
   "source": [
    "img_size=100"
   ]
  },
  {
   "cell_type": "code",
   "execution_count": 3,
   "metadata": {},
   "outputs": [
    {
     "name": "stdout",
     "output_type": "stream",
     "text": [
      "WARNING:tensorflow:From C:\\Users\\highs\\anaconda3\\envs\\tensorflow-gpu\\lib\\site-packages\\tensorflow\\python\\ops\\resource_variable_ops.py:435: colocate_with (from tensorflow.python.framework.ops) is deprecated and will be removed in a future version.\n",
      "Instructions for updating:\n",
      "Colocations handled automatically by placer.\n"
     ]
    }
   ],
   "source": [
    "con_base=VGG16(weights='imagenet',include_top=False,input_shape=(img_size,img_size,3))"
   ]
  },
  {
   "cell_type": "code",
   "execution_count": 4,
   "metadata": {},
   "outputs": [],
   "source": [
    "from keras import layers\n",
    "from keras import models\n",
    "model=models.Sequential()\n",
    "model.add(con_base)\n",
    "model.add(layers.Flatten())\n",
    "#model.add(layers.Dropout(0.3))\n",
    "model.add(layers.Dense(256,activation='relu'))\n",
    "model.add(layers.Dense(120,activation='softmax'))"
   ]
  },
  {
   "cell_type": "code",
   "execution_count": 5,
   "metadata": {},
   "outputs": [],
   "source": [
    "con_base.trainable=False"
   ]
  },
  {
   "cell_type": "code",
   "execution_count": 6,
   "metadata": {},
   "outputs": [
    {
     "name": "stdout",
     "output_type": "stream",
     "text": [
      "Model: \"sequential_1\"\n",
      "_________________________________________________________________\n",
      "Layer (type)                 Output Shape              Param #   \n",
      "=================================================================\n",
      "vgg16 (Model)                (None, 3, 3, 512)         14714688  \n",
      "_________________________________________________________________\n",
      "flatten_1 (Flatten)          (None, 4608)              0         \n",
      "_________________________________________________________________\n",
      "dense_1 (Dense)              (None, 256)               1179904   \n",
      "_________________________________________________________________\n",
      "dense_2 (Dense)              (None, 120)               30840     \n",
      "=================================================================\n",
      "Total params: 15,925,432\n",
      "Trainable params: 1,210,744\n",
      "Non-trainable params: 14,714,688\n",
      "_________________________________________________________________\n"
     ]
    }
   ],
   "source": [
    "model.summary()"
   ]
  },
  {
   "cell_type": "code",
   "execution_count": 7,
   "metadata": {},
   "outputs": [],
   "source": [
    "from keras import optimizers\n",
    "model.compile(optimizer='adam',\n",
    "              loss='categorical_crossentropy',\n",
    "              metrics=['accuracy'])"
   ]
  },
  {
   "cell_type": "code",
   "execution_count": 8,
   "metadata": {},
   "outputs": [],
   "source": [
    "from keras.preprocessing.image import ImageDataGenerator\n",
    "\n",
    "train_path='data/images/train'\n",
    "val_path='data/images/val'\n",
    "\n",
    "Train_datagen = ImageDataGenerator(\n",
    "    rescale=1./255,\n",
    "    rotation_range=40,\n",
    "    width_shift_range=0.2,\n",
    "    height_shift_range=0.2,\n",
    "    shear_range=0.2,\n",
    "    zoom_range=0.2,\n",
    "    fill_mode=\"nearest\",\n",
    "    horizontal_flip=True,\n",
    ") \n",
    "Test_datagen = ImageDataGenerator(\n",
    "    rescale=1./255\n",
    ") "
   ]
  },
  {
   "cell_type": "code",
   "execution_count": 9,
   "metadata": {},
   "outputs": [
    {
     "name": "stdout",
     "output_type": "stream",
     "text": [
      "Found 15779 images belonging to 120 classes.\n"
     ]
    }
   ],
   "source": [
    "Train_generator=Train_datagen.flow_from_directory(train_path,target_size=(img_size,img_size),batch_size=128,class_mode='categorical')"
   ]
  },
  {
   "cell_type": "code",
   "execution_count": 10,
   "metadata": {},
   "outputs": [
    {
     "name": "stdout",
     "output_type": "stream",
     "text": [
      "Found 3600 images belonging to 120 classes.\n"
     ]
    }
   ],
   "source": [
    "Val_generator=Test_datagen.flow_from_directory(val_path,target_size=(img_size,img_size),batch_size=128,class_mode='categorical')"
   ]
  },
  {
   "cell_type": "code",
   "execution_count": 11,
   "metadata": {},
   "outputs": [
    {
     "name": "stdout",
     "output_type": "stream",
     "text": [
      "WARNING:tensorflow:From C:\\Users\\highs\\anaconda3\\envs\\tensorflow-gpu\\lib\\site-packages\\tensorflow\\python\\ops\\math_ops.py:3066: to_int32 (from tensorflow.python.ops.math_ops) is deprecated and will be removed in a future version.\n",
      "Instructions for updating:\n",
      "Use tf.cast instead.\n",
      "Epoch 1/30\n",
      "124/124 [==============================] - 129s 1s/step - loss: 4.7212 - accuracy: 0.0270 - val_loss: 4.5565 - val_accuracy: 0.0413\n",
      "Epoch 2/30\n",
      "124/124 [==============================] - 69s 560ms/step - loss: 4.3672 - accuracy: 0.0634 - val_loss: 4.1819 - val_accuracy: 0.0848\n",
      "Epoch 3/30\n",
      "124/124 [==============================] - 68s 547ms/step - loss: 4.0825 - accuracy: 0.0936 - val_loss: 3.8980 - val_accuracy: 0.1023\n",
      "Epoch 4/30\n",
      "124/124 [==============================] - 68s 547ms/step - loss: 3.9110 - accuracy: 0.1167 - val_loss: 3.8614 - val_accuracy: 0.1245\n",
      "Epoch 5/30\n",
      "124/124 [==============================] - 71s 572ms/step - loss: 3.8046 - accuracy: 0.1316 - val_loss: 3.7653 - val_accuracy: 0.1347\n",
      "Epoch 6/30\n",
      "124/124 [==============================] - 69s 553ms/step - loss: 3.7324 - accuracy: 0.1446 - val_loss: 3.7207 - val_accuracy: 0.1540\n",
      "Epoch 7/30\n",
      "124/124 [==============================] - 68s 547ms/step - loss: 3.6758 - accuracy: 0.1522 - val_loss: 3.6573 - val_accuracy: 0.1564\n",
      "Epoch 8/30\n",
      "124/124 [==============================] - 68s 547ms/step - loss: 3.6207 - accuracy: 0.1591 - val_loss: 3.8455 - val_accuracy: 0.1609\n",
      "Epoch 9/30\n",
      "124/124 [==============================] - 70s 561ms/step - loss: 3.5869 - accuracy: 0.1686 - val_loss: 3.7757 - val_accuracy: 0.1737\n",
      "Epoch 10/30\n",
      "124/124 [==============================] - 68s 547ms/step - loss: 3.5564 - accuracy: 0.1692 - val_loss: 3.4962 - val_accuracy: 0.1690\n",
      "Epoch 11/30\n",
      "124/124 [==============================] - 68s 546ms/step - loss: 3.5038 - accuracy: 0.1830 - val_loss: 3.4849 - val_accuracy: 0.1724\n",
      "Epoch 12/30\n",
      "124/124 [==============================] - 71s 570ms/step - loss: 3.4801 - accuracy: 0.1854 - val_loss: 3.5175 - val_accuracy: 0.1749\n",
      "Epoch 13/30\n",
      "124/124 [==============================] - 69s 555ms/step - loss: 3.4652 - accuracy: 0.1878 - val_loss: 3.4296 - val_accuracy: 0.1783\n",
      "Epoch 14/30\n",
      "124/124 [==============================] - 68s 548ms/step - loss: 3.4472 - accuracy: 0.1889 - val_loss: 3.6017 - val_accuracy: 0.1804\n",
      "Epoch 15/30\n",
      "124/124 [==============================] - 68s 546ms/step - loss: 3.4256 - accuracy: 0.1932 - val_loss: 3.6184 - val_accuracy: 0.1832\n",
      "Epoch 16/30\n",
      "124/124 [==============================] - 70s 563ms/step - loss: 3.4258 - accuracy: 0.1998 - val_loss: 3.7276 - val_accuracy: 0.1796\n",
      "Epoch 17/30\n",
      "124/124 [==============================] - 68s 550ms/step - loss: 3.3816 - accuracy: 0.2017 - val_loss: 3.2941 - val_accuracy: 0.1788\n",
      "Epoch 18/30\n",
      "124/124 [==============================] - 68s 546ms/step - loss: 3.3786 - accuracy: 0.2007 - val_loss: 3.4197 - val_accuracy: 0.1954\n",
      "Epoch 19/30\n",
      "124/124 [==============================] - 68s 546ms/step - loss: 3.3583 - accuracy: 0.2045 - val_loss: 3.4328 - val_accuracy: 0.1880\n",
      "Epoch 20/30\n",
      "124/124 [==============================] - 69s 558ms/step - loss: 3.3544 - accuracy: 0.2010 - val_loss: 3.3978 - val_accuracy: 0.1893\n",
      "Epoch 21/30\n",
      "124/124 [==============================] - 68s 548ms/step - loss: 3.3228 - accuracy: 0.2100 - val_loss: 3.4640 - val_accuracy: 0.1937\n",
      "Epoch 22/30\n",
      "124/124 [==============================] - 68s 546ms/step - loss: 3.3204 - accuracy: 0.2130 - val_loss: 3.4722 - val_accuracy: 0.1850\n",
      "Epoch 23/30\n",
      "124/124 [==============================] - 71s 570ms/step - loss: 3.3036 - accuracy: 0.2121 - val_loss: 3.7734 - val_accuracy: 0.1836\n",
      "Epoch 24/30\n",
      "124/124 [==============================] - 69s 554ms/step - loss: 3.2814 - accuracy: 0.2196 - val_loss: 3.3240 - val_accuracy: 0.1864\n",
      "Epoch 25/30\n",
      "124/124 [==============================] - 68s 546ms/step - loss: 3.2949 - accuracy: 0.2153 - val_loss: 3.6629 - val_accuracy: 0.1869\n",
      "Epoch 26/30\n",
      "124/124 [==============================] - 68s 545ms/step - loss: 3.2684 - accuracy: 0.2226 - val_loss: 3.5604 - val_accuracy: 0.1834\n",
      "Epoch 27/30\n",
      "124/124 [==============================] - 71s 576ms/step - loss: 3.2739 - accuracy: 0.2216 - val_loss: 3.5001 - val_accuracy: 0.1951\n",
      "Epoch 28/30\n",
      "124/124 [==============================] - 69s 557ms/step - loss: 3.2540 - accuracy: 0.2240 - val_loss: 3.6579 - val_accuracy: 0.1877\n",
      "Epoch 29/30\n",
      "124/124 [==============================] - 68s 552ms/step - loss: 3.2456 - accuracy: 0.2230 - val_loss: 3.6155 - val_accuracy: 0.1901\n",
      "Epoch 30/30\n",
      "124/124 [==============================] - 69s 554ms/step - loss: 3.2462 - accuracy: 0.2230 - val_loss: 3.4108 - val_accuracy: 0.1908\n"
     ]
    }
   ],
   "source": [
    "history=model.fit_generator(\n",
    "    Train_generator,\n",
    "    #steps_per_epoch=100,\n",
    "    epochs=30,\n",
    "    validation_data=Val_generator,\n",
    "    validation_steps=50\n",
    ")"
   ]
  },
  {
   "cell_type": "code",
   "execution_count": 12,
   "metadata": {},
   "outputs": [],
   "source": [
    "model.save('model_V4_30epochs.h5')"
   ]
  },
  {
   "cell_type": "code",
   "execution_count": 13,
   "metadata": {},
   "outputs": [
    {
     "data": {
      "image/png": "[encoded data removed]",
      "text/plain": [
       "<Figure size 432x288 with 1 Axes>"
      ]
     },
     "metadata": {
      "needs_background": "light"
     },
     "output_type": "display_data"
    }
   ],
   "source": [
    "import matplotlib.pyplot as plt\n",
    "loss = history.history['loss']\n",
    "val_loss = history.history['val_loss']\n",
    "epochs = range(1, len(loss) + 1)\n",
    "plt.plot(epochs, loss, 'bo', label='Training loss')\n",
    "plt.plot(epochs, val_loss, 'b', label='Validation loss')\n",
    "plt.title('Training and validation loss')\n",
    "plt.xlabel('Epochs')\n",
    "plt.ylabel('Loss')\n",
    "plt.legend()\n",
    "#plt.show()\n",
    "plt.savefig(\"model_V4_30epochs_2-1.png\")"
   ]
  },
  {
   "cell_type": "code",
   "execution_count": 14,
   "metadata": {},
   "outputs": [
    {
     "data": {
      "image/png": "[encoded data removed]",
      "text/plain": [
       "<Figure size 432x288 with 1 Axes>"
      ]
     },
     "metadata": {
      "needs_background": "light"
     },
     "output_type": "display_data"
    }
   ],
   "source": [
    "plt.clf()\n",
    "acc = history.history['accuracy']\n",
    "val_acc = history.history['val_accuracy']\n",
    "plt.plot(epochs, acc, 'bo', label='Training acc')\n",
    "plt.plot(epochs, val_acc, 'b', label='Validation acc')\n",
    "plt.title('Training and validation accuracy')\n",
    "plt.xlabel('Epochs')\n",
    "plt.ylabel('Loss')\n",
    "plt.legend()\n",
    "#plt.show()\n",
    "plt.savefig(\"model_V4_30epochs_2-2.png\")"
   ]
  },
  {
   "cell_type": "code",
   "execution_count": null,
   "metadata": {},
   "outputs": [],
   "source": []
  }
 ],
 "metadata": {
  "kernelspec": {
   "display_name": "Python 3",
   "language": "python",
   "name": "python3"
  },
  "language_info": {
   "codemirror_mode": {
    "name": "ipython",
    "version": 3
   },
   "file_extension": ".py",
   "mimetype": "text/x-python",
   "name": "python",
   "nbconvert_exporter": "python",
   "pygments_lexer": "ipython3",
   "version": "3.7.7"
  }
 },
 "nbformat": 4,
 "nbformat_minor": 4
}
