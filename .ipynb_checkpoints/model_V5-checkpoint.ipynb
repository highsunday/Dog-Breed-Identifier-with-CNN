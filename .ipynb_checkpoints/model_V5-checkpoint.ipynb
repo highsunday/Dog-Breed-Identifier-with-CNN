{
 "cells": [
  {
   "cell_type": "code",
   "execution_count": 37,
   "metadata": {},
   "outputs": [],
   "source": [
    "from keras.applications import VGG16"
   ]
  },
  {
   "cell_type": "code",
   "execution_count": 38,
   "metadata": {},
   "outputs": [],
   "source": [
    "img_size=150"
   ]
  },
  {
   "cell_type": "code",
   "execution_count": 39,
   "metadata": {},
   "outputs": [],
   "source": [
    "con_base=VGG16(weights='imagenet',include_top=False,input_shape=(img_size,img_size,3))"
   ]
  },
  {
   "cell_type": "code",
   "execution_count": 40,
   "metadata": {},
   "outputs": [],
   "source": [
    "from keras import layers\n",
    "from keras import models\n",
    "model=models.Sequential()\n",
    "model.add(con_base)\n",
    "model.add(layers.Flatten())\n",
    "#model.add(layers.Dropout(0.3))\n",
    "model.add(layers.Dense(256,activation='relu'))\n",
    "model.add(layers.Dense(120,activation='softmax'))"
   ]
  },
  {
   "cell_type": "code",
   "execution_count": 41,
   "metadata": {},
   "outputs": [],
   "source": [
    "con_base.trainable=True\n",
    "set_trainable=False\n",
    "for layer in con_base.layers:\n",
    "    if(layer.name=='block5_conv3'):\n",
    "        set_trainable=True\n",
    "    if(set_trainable):\n",
    "        layer.trainable=True\n",
    "    else:\n",
    "        layer.trainable=False"
   ]
  },
  {
   "cell_type": "code",
   "execution_count": 42,
   "metadata": {},
   "outputs": [
    {
     "name": "stdout",
     "output_type": "stream",
     "text": [
      "Model: \"vgg16\"\n",
      "_________________________________________________________________\n",
      "Layer (type)                 Output Shape              Param #   \n",
      "=================================================================\n",
      "input_5 (InputLayer)         (None, 150, 150, 3)       0         \n",
      "_________________________________________________________________\n",
      "block1_conv1 (Conv2D)        (None, 150, 150, 64)      1792      \n",
      "_________________________________________________________________\n",
      "block1_conv2 (Conv2D)        (None, 150, 150, 64)      36928     \n",
      "_________________________________________________________________\n",
      "block1_pool (MaxPooling2D)   (None, 75, 75, 64)        0         \n",
      "_________________________________________________________________\n",
      "block2_conv1 (Conv2D)        (None, 75, 75, 128)       73856     \n",
      "_________________________________________________________________\n",
      "block2_conv2 (Conv2D)        (None, 75, 75, 128)       147584    \n",
      "_________________________________________________________________\n",
      "block2_pool (MaxPooling2D)   (None, 37, 37, 128)       0         \n",
      "_________________________________________________________________\n",
      "block3_conv1 (Conv2D)        (None, 37, 37, 256)       295168    \n",
      "_________________________________________________________________\n",
      "block3_conv2 (Conv2D)        (None, 37, 37, 256)       590080    \n",
      "_________________________________________________________________\n",
      "block3_conv3 (Conv2D)        (None, 37, 37, 256)       590080    \n",
      "_________________________________________________________________\n",
      "block3_pool (MaxPooling2D)   (None, 18, 18, 256)       0         \n",
      "_________________________________________________________________\n",
      "block4_conv1 (Conv2D)        (None, 18, 18, 512)       1180160   \n",
      "_________________________________________________________________\n",
      "block4_conv2 (Conv2D)        (None, 18, 18, 512)       2359808   \n",
      "_________________________________________________________________\n",
      "block4_conv3 (Conv2D)        (None, 18, 18, 512)       2359808   \n",
      "_________________________________________________________________\n",
      "block4_pool (MaxPooling2D)   (None, 9, 9, 512)         0         \n",
      "_________________________________________________________________\n",
      "block5_conv1 (Conv2D)        (None, 9, 9, 512)         2359808   \n",
      "_________________________________________________________________\n",
      "block5_conv2 (Conv2D)        (None, 9, 9, 512)         2359808   \n",
      "_________________________________________________________________\n",
      "block5_conv3 (Conv2D)        (None, 9, 9, 512)         2359808   \n",
      "_________________________________________________________________\n",
      "block5_pool (MaxPooling2D)   (None, 4, 4, 512)         0         \n",
      "=================================================================\n",
      "Total params: 14,714,688\n",
      "Trainable params: 2,359,808\n",
      "Non-trainable params: 12,354,880\n",
      "_________________________________________________________________\n"
     ]
    }
   ],
   "source": [
    "con_base.summary()"
   ]
  },
  {
   "cell_type": "code",
   "execution_count": 43,
   "metadata": {},
   "outputs": [
    {
     "name": "stdout",
     "output_type": "stream",
     "text": [
      "Model: \"sequential_5\"\n",
      "_________________________________________________________________\n",
      "Layer (type)                 Output Shape              Param #   \n",
      "=================================================================\n",
      "vgg16 (Model)                (None, 4, 4, 512)         14714688  \n",
      "_________________________________________________________________\n",
      "flatten_4 (Flatten)          (None, 8192)              0         \n",
      "_________________________________________________________________\n",
      "dense_7 (Dense)              (None, 256)               2097408   \n",
      "_________________________________________________________________\n",
      "dense_8 (Dense)              (None, 120)               30840     \n",
      "=================================================================\n",
      "Total params: 16,842,936\n",
      "Trainable params: 4,488,056\n",
      "Non-trainable params: 12,354,880\n",
      "_________________________________________________________________\n"
     ]
    }
   ],
   "source": [
    "model.summary()"
   ]
  },
  {
   "cell_type": "code",
   "execution_count": 44,
   "metadata": {},
   "outputs": [],
   "source": [
    "from keras import optimizers\n",
    "model.compile(optimizer='adam',\n",
    "              loss='categorical_crossentropy',\n",
    "              metrics=['accuracy'])"
   ]
  },
  {
   "cell_type": "code",
   "execution_count": 45,
   "metadata": {},
   "outputs": [],
   "source": [
    "from keras.preprocessing.image import ImageDataGenerator\n",
    "\n",
    "train_path='data/images/train'\n",
    "val_path='data/images/val'\n",
    "\n",
    "Train_datagen = ImageDataGenerator(\n",
    "    rescale=1./255,\n",
    "    rotation_range=40,\n",
    "    width_shift_range=0.2,\n",
    "    height_shift_range=0.2,\n",
    "    shear_range=0.2,\n",
    "    zoom_range=0.2,\n",
    "    fill_mode=\"nearest\",\n",
    "    horizontal_flip=True,\n",
    ") \n",
    "Test_datagen = ImageDataGenerator(\n",
    "    rescale=1./255\n",
    ") "
   ]
  },
  {
   "cell_type": "code",
   "execution_count": 46,
   "metadata": {},
   "outputs": [
    {
     "name": "stdout",
     "output_type": "stream",
     "text": [
      "Found 15779 images belonging to 120 classes.\n"
     ]
    }
   ],
   "source": [
    "Train_generator=Train_datagen.flow_from_directory(train_path,target_size=(img_size,img_size),batch_size=128,class_mode='categorical')"
   ]
  },
  {
   "cell_type": "code",
   "execution_count": 47,
   "metadata": {},
   "outputs": [
    {
     "name": "stdout",
     "output_type": "stream",
     "text": [
      "Found 3600 images belonging to 120 classes.\n"
     ]
    }
   ],
   "source": [
    "Val_generator=Test_datagen.flow_from_directory(val_path,target_size=(img_size,img_size),batch_size=128,class_mode='categorical')"
   ]
  },
  {
   "cell_type": "code",
   "execution_count": 48,
   "metadata": {},
   "outputs": [
    {
     "name": "stdout",
     "output_type": "stream",
     "text": [
      "Epoch 1/50\n",
      "124/124 [==============================] - 106s 854ms/step - loss: 4.5377 - accuracy: 0.0397 - val_loss: 4.2848 - val_accuracy: 0.0881\n",
      "Epoch 2/50\n",
      "124/124 [==============================] - 99s 801ms/step - loss: 3.7778 - accuracy: 0.1217 - val_loss: 3.5973 - val_accuracy: 0.1703\n",
      "Epoch 3/50\n",
      "124/124 [==============================] - 100s 803ms/step - loss: 3.3843 - accuracy: 0.1808 - val_loss: 3.1497 - val_accuracy: 0.2097\n",
      "Epoch 4/50\n",
      "124/124 [==============================] - 97s 783ms/step - loss: 3.1737 - accuracy: 0.2143 - val_loss: 3.1129 - val_accuracy: 0.2387\n",
      "Epoch 5/50\n",
      "124/124 [==============================] - 100s 809ms/step - loss: 3.0617 - accuracy: 0.2369 - val_loss: 2.7590 - val_accuracy: 0.2636\n",
      "Epoch 6/50\n",
      "124/124 [==============================] - 99s 800ms/step - loss: 2.9434 - accuracy: 0.2587 - val_loss: 3.1176 - val_accuracy: 0.2655\n",
      "Epoch 7/50\n",
      "124/124 [==============================] - 97s 786ms/step - loss: 2.8479 - accuracy: 0.2805 - val_loss: 2.9863 - val_accuracy: 0.2655\n",
      "Epoch 8/50\n",
      "124/124 [==============================] - 97s 782ms/step - loss: 2.7748 - accuracy: 0.2937 - val_loss: 3.2639 - val_accuracy: 0.2844\n",
      "Epoch 9/50\n",
      "124/124 [==============================] - 100s 803ms/step - loss: 2.7302 - accuracy: 0.2992 - val_loss: 2.8375 - val_accuracy: 0.2915\n",
      "Epoch 10/50\n",
      "124/124 [==============================] - 98s 791ms/step - loss: 2.6644 - accuracy: 0.3176 - val_loss: 2.7923 - val_accuracy: 0.3078\n",
      "Epoch 11/50\n",
      "124/124 [==============================] - 97s 785ms/step - loss: 2.6097 - accuracy: 0.3306 - val_loss: 2.7525 - val_accuracy: 0.2953\n",
      "Epoch 12/50\n",
      "124/124 [==============================] - 100s 808ms/step - loss: 2.5570 - accuracy: 0.3365 - val_loss: 2.8120 - val_accuracy: 0.3070\n",
      "Epoch 13/50\n",
      "124/124 [==============================] - 99s 798ms/step - loss: 2.5198 - accuracy: 0.3463 - val_loss: 2.8131 - val_accuracy: 0.3013\n",
      "Epoch 14/50\n",
      "124/124 [==============================] - 98s 790ms/step - loss: 2.4774 - accuracy: 0.3554 - val_loss: 3.2692 - val_accuracy: 0.2971\n",
      "Epoch 15/50\n",
      "124/124 [==============================] - 97s 785ms/step - loss: 2.4412 - accuracy: 0.3599 - val_loss: 3.1378 - val_accuracy: 0.3117\n",
      "Epoch 16/50\n",
      "124/124 [==============================] - 100s 809ms/step - loss: 2.4355 - accuracy: 0.3619 - val_loss: 3.2115 - val_accuracy: 0.3038\n",
      "Epoch 17/50\n",
      "124/124 [==============================] - 98s 793ms/step - loss: 2.3663 - accuracy: 0.3751 - val_loss: 2.6983 - val_accuracy: 0.3086\n",
      "Epoch 18/50\n",
      "124/124 [==============================] - 97s 785ms/step - loss: 2.3737 - accuracy: 0.3731 - val_loss: 2.7684 - val_accuracy: 0.3041\n",
      "Epoch 19/50\n",
      "124/124 [==============================] - 97s 784ms/step - loss: 2.3158 - accuracy: 0.3865 - val_loss: 2.8212 - val_accuracy: 0.3098\n",
      "Epoch 20/50\n",
      "124/124 [==============================] - 99s 802ms/step - loss: 2.2981 - accuracy: 0.3923 - val_loss: 3.1605 - val_accuracy: 0.3143\n",
      "Epoch 21/50\n",
      "124/124 [==============================] - 98s 791ms/step - loss: 2.2880 - accuracy: 0.3969 - val_loss: 2.7373 - val_accuracy: 0.3193\n",
      "Epoch 22/50\n",
      "124/124 [==============================] - 97s 784ms/step - loss: 2.2427 - accuracy: 0.4037 - val_loss: 2.8848 - val_accuracy: 0.3262\n",
      "Epoch 23/50\n",
      "124/124 [==============================] - 100s 809ms/step - loss: 2.2262 - accuracy: 0.4062 - val_loss: 2.9492 - val_accuracy: 0.3151\n",
      "Epoch 24/50\n",
      "124/124 [==============================] - 99s 798ms/step - loss: 2.2048 - accuracy: 0.4128 - val_loss: 2.5196 - val_accuracy: 0.3135\n",
      "Epoch 25/50\n",
      "124/124 [==============================] - 98s 787ms/step - loss: 2.1730 - accuracy: 0.4195 - val_loss: 2.8320 - val_accuracy: 0.3240\n",
      "Epoch 26/50\n",
      "124/124 [==============================] - 97s 783ms/step - loss: 2.1539 - accuracy: 0.4247 - val_loss: 3.1337 - val_accuracy: 0.3395\n",
      "Epoch 27/50\n",
      "124/124 [==============================] - 100s 803ms/step - loss: 2.1311 - accuracy: 0.4282 - val_loss: 3.0209 - val_accuracy: 0.3068\n",
      "Epoch 28/50\n",
      "124/124 [==============================] - 99s 795ms/step - loss: 2.1381 - accuracy: 0.4278 - val_loss: 2.7528 - val_accuracy: 0.3232\n",
      "Epoch 29/50\n",
      "124/124 [==============================] - 97s 781ms/step - loss: 2.0866 - accuracy: 0.4371 - val_loss: 4.8689 - val_accuracy: 0.3164\n",
      "Epoch 30/50\n",
      "124/124 [==============================] - 97s 784ms/step - loss: 2.0805 - accuracy: 0.4441 - val_loss: 2.6418 - val_accuracy: 0.3224\n",
      "Epoch 31/50\n",
      "124/124 [==============================] - 99s 800ms/step - loss: 2.0837 - accuracy: 0.4420 - val_loss: 3.2414 - val_accuracy: 0.3025\n",
      "Epoch 32/50\n",
      "124/124 [==============================] - 98s 790ms/step - loss: 2.0468 - accuracy: 0.4503 - val_loss: 3.2968 - val_accuracy: 0.3109\n",
      "Epoch 33/50\n",
      "124/124 [==============================] - 97s 784ms/step - loss: 2.0565 - accuracy: 0.4482 - val_loss: 2.6180 - val_accuracy: 0.3200\n",
      "Epoch 34/50\n",
      "124/124 [==============================] - 100s 807ms/step - loss: 2.0273 - accuracy: 0.4582 - val_loss: 3.0914 - val_accuracy: 0.3301\n",
      "Epoch 35/50\n",
      "124/124 [==============================] - 99s 796ms/step - loss: 2.0080 - accuracy: 0.4578 - val_loss: 3.1025 - val_accuracy: 0.3269\n",
      "Epoch 36/50\n",
      "124/124 [==============================] - 99s 798ms/step - loss: 1.9951 - accuracy: 0.4593 - val_loss: 2.8514 - val_accuracy: 0.3185\n",
      "Epoch 37/50\n",
      "124/124 [==============================] - 98s 789ms/step - loss: 1.9788 - accuracy: 0.4649 - val_loss: 2.5665 - val_accuracy: 0.3195\n",
      "Epoch 38/50\n",
      "124/124 [==============================] - 100s 805ms/step - loss: 1.9601 - accuracy: 0.4659 - val_loss: 2.8029 - val_accuracy: 0.3112\n",
      "Epoch 39/50\n",
      "124/124 [==============================] - 99s 797ms/step - loss: 1.9359 - accuracy: 0.4747 - val_loss: 3.2518 - val_accuracy: 0.3138\n",
      "Epoch 40/50\n",
      "124/124 [==============================] - 99s 799ms/step - loss: 1.9425 - accuracy: 0.4697 - val_loss: 2.8988 - val_accuracy: 0.3224\n",
      "Epoch 41/50\n",
      "124/124 [==============================] - 103s 833ms/step - loss: 1.9438 - accuracy: 0.4703 - val_loss: 3.3336 - val_accuracy: 0.3298\n",
      "Epoch 42/50\n",
      "124/124 [==============================] - 101s 813ms/step - loss: 1.9048 - accuracy: 0.4842 - val_loss: 2.9586 - val_accuracy: 0.3110\n",
      "Epoch 43/50\n",
      "124/124 [==============================] - 98s 791ms/step - loss: 1.8908 - accuracy: 0.4862 - val_loss: 3.6768 - val_accuracy: 0.3178\n",
      "Epoch 44/50\n",
      "124/124 [==============================] - 98s 788ms/step - loss: 1.8716 - accuracy: 0.4881 - val_loss: 3.0665 - val_accuracy: 0.3201\n",
      "Epoch 45/50\n",
      "124/124 [==============================] - 101s 813ms/step - loss: 1.8468 - accuracy: 0.4945 - val_loss: 2.8872 - val_accuracy: 0.3146\n",
      "Epoch 46/50\n",
      "124/124 [==============================] - 100s 804ms/step - loss: 1.8732 - accuracy: 0.4922 - val_loss: 3.3359 - val_accuracy: 0.3088\n",
      "Epoch 47/50\n",
      "124/124 [==============================] - 97s 782ms/step - loss: 1.8680 - accuracy: 0.4869 - val_loss: 3.5978 - val_accuracy: 0.3127\n",
      "Epoch 48/50\n",
      "124/124 [==============================] - 97s 785ms/step - loss: 1.8470 - accuracy: 0.4990 - val_loss: 2.7057 - val_accuracy: 0.3149\n",
      "Epoch 49/50\n",
      "124/124 [==============================] - 99s 801ms/step - loss: 1.8542 - accuracy: 0.4953 - val_loss: 3.5148 - val_accuracy: 0.3303\n",
      "Epoch 50/50\n",
      "124/124 [==============================] - 98s 793ms/step - loss: 1.8373 - accuracy: 0.4946 - val_loss: 2.7119 - val_accuracy: 0.3177\n"
     ]
    }
   ],
   "source": [
    "history=model.fit_generator(\n",
    "    Train_generator,\n",
    "    #steps_per_epoch=100,\n",
    "    epochs=50,\n",
    "    validation_data=Val_generator,\n",
    "    validation_steps=50\n",
    ")"
   ]
  },
  {
   "cell_type": "code",
   "execution_count": 49,
   "metadata": {},
   "outputs": [],
   "source": [
    "model.save('model_V5_50epochs.h5')"
   ]
  },
  {
   "cell_type": "code",
   "execution_count": 50,
   "metadata": {},
   "outputs": [
    {
     "data": {
      "image/png": "[encoded data removed]",
      "text/plain": [
       "<Figure size 432x288 with 1 Axes>"
      ]
     },
     "metadata": {
      "needs_background": "light"
     },
     "output_type": "display_data"
    }
   ],
   "source": [
    "import matplotlib.pyplot as plt\n",
    "loss = history.history['loss']\n",
    "val_loss = history.history['val_loss']\n",
    "epochs = range(1, len(loss) + 1)\n",
    "plt.plot(epochs, loss, 'bo', label='Training loss')\n",
    "plt.plot(epochs, val_loss, 'b', label='Validation loss')\n",
    "plt.title('Training and validation loss')\n",
    "plt.xlabel('Epochs')\n",
    "plt.ylabel('Loss')\n",
    "plt.legend()\n",
    "#plt.show()\n",
    "plt.savefig(\"model_V5_50epochs_1.png\")"
   ]
  },
  {
   "cell_type": "code",
   "execution_count": 51,
   "metadata": {},
   "outputs": [
    {
     "data": {
      "image/png": "[encoded data removed]",
      "text/plain": [
       "<Figure size 432x288 with 1 Axes>"
      ]
     },
     "metadata": {
      "needs_background": "light"
     },
     "output_type": "display_data"
    }
   ],
   "source": [
    "plt.clf()\n",
    "acc = history.history['accuracy']\n",
    "val_acc = history.history['val_accuracy']\n",
    "plt.plot(epochs, acc, 'bo', label='Training acc')\n",
    "plt.plot(epochs, val_acc, 'b', label='Validation acc')\n",
    "plt.title('Training and validation accuracy')\n",
    "plt.xlabel('Epochs')\n",
    "plt.ylabel('Loss')\n",
    "plt.legend()\n",
    "#plt.show()\n",
    "plt.savefig(\"model_V5_50epochs_2.png\")"
   ]
  },
  {
   "cell_type": "code",
   "execution_count": null,
   "metadata": {},
   "outputs": [],
   "source": []
  },
  {
   "cell_type": "code",
   "execution_count": null,
   "metadata": {},
   "outputs": [],
   "source": []
  }
 ],
 "metadata": {
  "kernelspec": {
   "display_name": "Python 3",
   "language": "python",
   "name": "python3"
  },
  "language_info": {
   "codemirror_mode": {
    "name": "ipython",
    "version": 3
   },
   "file_extension": ".py",
   "mimetype": "text/x-python",
   "name": "python",
   "nbconvert_exporter": "python",
   "pygments_lexer": "ipython3",
   "version": "3.7.7"
  }
 },
 "nbformat": 4,
 "nbformat_minor": 4
}
