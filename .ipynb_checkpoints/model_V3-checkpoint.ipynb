{
 "cells": [
  {
   "cell_type": "code",
   "execution_count": 1,
   "metadata": {},
   "outputs": [],
   "source": [
    "import os\n",
    "import numpy as np\n",
    "from tqdm import tqdm\n",
    "from glob import glob\n",
    "from PIL import Image\n",
    "import math\n",
    "import cv2                \n",
    "import matplotlib.pyplot as plt                        \n",
    "%matplotlib inline"
   ]
  },
  {
   "cell_type": "code",
   "execution_count": 2,
   "metadata": {},
   "outputs": [
    {
     "name": "stderr",
     "output_type": "stream",
     "text": [
      "Using TensorFlow backend.\n"
     ]
    }
   ],
   "source": [
    "from keras.preprocessing.image import ImageDataGenerator"
   ]
  },
  {
   "cell_type": "code",
   "execution_count": 3,
   "metadata": {},
   "outputs": [],
   "source": [
    "img_size=100"
   ]
  },
  {
   "cell_type": "code",
   "execution_count": 4,
   "metadata": {},
   "outputs": [
    {
     "name": "stdout",
     "output_type": "stream",
     "text": [
      "WARNING:tensorflow:From C:\\Users\\highs\\anaconda3\\envs\\tensorflow-gpu\\lib\\site-packages\\tensorflow\\python\\ops\\resource_variable_ops.py:435: colocate_with (from tensorflow.python.framework.ops) is deprecated and will be removed in a future version.\n",
      "Instructions for updating:\n",
      "Colocations handled automatically by placer.\n"
     ]
    }
   ],
   "source": [
    "from keras import layers\n",
    "from keras import models\n",
    "\n",
    "model=models.Sequential()\n",
    "model.add(layers.Conv2D(32,(3,3),activation='relu',input_shape=(img_size,img_size,3)))\n",
    "model.add(layers.MaxPooling2D((2,2)))\n",
    "model.add(layers.Conv2D(64,(3,3),activation='relu'))\n",
    "model.add(layers.MaxPooling2D((2,2)))\n",
    "model.add(layers.Conv2D(128,(3,3),activation='relu'))\n",
    "model.add(layers.MaxPooling2D((2,2)))\n",
    "model.add(layers.Conv2D(64,(3,3),activation='relu'))\n",
    "model.add(layers.MaxPooling2D((2,2)))\n",
    "model.add(layers.Flatten())\n",
    "model.add(layers.Dropout(0.3))\n",
    "model.add(layers.Dense(256,activation='relu'))\n",
    "model.add(layers.Dense(120,activation='softmax'))"
   ]
  },
  {
   "cell_type": "code",
   "execution_count": 5,
   "metadata": {},
   "outputs": [
    {
     "name": "stdout",
     "output_type": "stream",
     "text": [
      "Model: \"sequential_1\"\n",
      "_________________________________________________________________\n",
      "Layer (type)                 Output Shape              Param #   \n",
      "=================================================================\n",
      "conv2d_1 (Conv2D)            (None, 98, 98, 32)        896       \n",
      "_________________________________________________________________\n",
      "max_pooling2d_1 (MaxPooling2 (None, 49, 49, 32)        0         \n",
      "_________________________________________________________________\n",
      "conv2d_2 (Conv2D)            (None, 47, 47, 64)        18496     \n",
      "_________________________________________________________________\n",
      "max_pooling2d_2 (MaxPooling2 (None, 23, 23, 64)        0         \n",
      "_________________________________________________________________\n",
      "conv2d_3 (Conv2D)            (None, 21, 21, 128)       73856     \n",
      "_________________________________________________________________\n",
      "max_pooling2d_3 (MaxPooling2 (None, 10, 10, 128)       0         \n",
      "_________________________________________________________________\n",
      "conv2d_4 (Conv2D)            (None, 8, 8, 64)          73792     \n",
      "_________________________________________________________________\n",
      "max_pooling2d_4 (MaxPooling2 (None, 4, 4, 64)          0         \n",
      "_________________________________________________________________\n",
      "flatten_1 (Flatten)          (None, 1024)              0         \n",
      "_________________________________________________________________\n",
      "dropout_1 (Dropout)          (None, 1024)              0         \n",
      "_________________________________________________________________\n",
      "dense_1 (Dense)              (None, 256)               262400    \n",
      "_________________________________________________________________\n",
      "dense_2 (Dense)              (None, 120)               30840     \n",
      "=================================================================\n",
      "Total params: 460,280\n",
      "Trainable params: 460,280\n",
      "Non-trainable params: 0\n",
      "_________________________________________________________________\n"
     ]
    }
   ],
   "source": [
    "model.summary()"
   ]
  },
  {
   "cell_type": "code",
   "execution_count": 6,
   "metadata": {},
   "outputs": [],
   "source": [
    "model.compile(optimizer='adam',\n",
    "              loss='categorical_crossentropy',\n",
    "              metrics=['accuracy'])"
   ]
  },
  {
   "cell_type": "code",
   "execution_count": 7,
   "metadata": {},
   "outputs": [],
   "source": [
    "Train_datagen = ImageDataGenerator(\n",
    "    rescale=1./255,\n",
    "    rotation_range=40,\n",
    "    width_shift_range=0.2,\n",
    "    height_shift_range=0.2,\n",
    "    shear_range=0.2,\n",
    "    zoom_range=0.2,\n",
    "    fill_mode=\"nearest\",\n",
    "    horizontal_flip=True,\n",
    ") "
   ]
  },
  {
   "cell_type": "code",
   "execution_count": 8,
   "metadata": {},
   "outputs": [],
   "source": [
    "Test_datagen = ImageDataGenerator(\n",
    "    rescale=1./255\n",
    ") "
   ]
  },
  {
   "cell_type": "code",
   "execution_count": 9,
   "metadata": {},
   "outputs": [],
   "source": [
    "train_path='data/images/train'\n",
    "val_path='data/images/val'"
   ]
  },
  {
   "cell_type": "code",
   "execution_count": 10,
   "metadata": {},
   "outputs": [
    {
     "name": "stdout",
     "output_type": "stream",
     "text": [
      "Found 18179 images belonging to 120 classes.\n"
     ]
    }
   ],
   "source": [
    "Train_generator=Train_datagen.flow_from_directory(train_path,target_size=(img_size,img_size),batch_size=128,class_mode='categorical')"
   ]
  },
  {
   "cell_type": "code",
   "execution_count": 11,
   "metadata": {},
   "outputs": [
    {
     "name": "stdout",
     "output_type": "stream",
     "text": [
      "Found 1200 images belonging to 120 classes.\n"
     ]
    }
   ],
   "source": [
    "Val_generator=Test_datagen.flow_from_directory(val_path,target_size=(img_size,img_size),batch_size=128,class_mode='categorical')"
   ]
  },
  {
   "cell_type": "code",
   "execution_count": 12,
   "metadata": {},
   "outputs": [
    {
     "name": "stdout",
     "output_type": "stream",
     "text": [
      "WARNING:tensorflow:From C:\\Users\\highs\\anaconda3\\envs\\tensorflow-gpu\\lib\\site-packages\\tensorflow\\python\\ops\\math_ops.py:3066: to_int32 (from tensorflow.python.ops.math_ops) is deprecated and will be removed in a future version.\n",
      "Instructions for updating:\n",
      "Use tf.cast instead.\n",
      "Epoch 1/50\n",
      "143/143 [==============================] - 84s 585ms/step - loss: 4.7733 - accuracy: 0.0116 - val_loss: 4.8397 - val_accuracy: 0.0142\n",
      "Epoch 2/50\n",
      "143/143 [==============================] - 78s 547ms/step - loss: 4.6578 - accuracy: 0.0201 - val_loss: 4.5447 - val_accuracy: 0.0325\n",
      "Epoch 3/50\n",
      "143/143 [==============================] - 78s 545ms/step - loss: 4.5488 - accuracy: 0.0295 - val_loss: 4.3660 - val_accuracy: 0.0300\n",
      "Epoch 4/50\n",
      "143/143 [==============================] - 79s 550ms/step - loss: 4.4137 - accuracy: 0.0400 - val_loss: 4.1988 - val_accuracy: 0.0433\n",
      "Epoch 5/50\n",
      "143/143 [==============================] - 78s 547ms/step - loss: 4.3035 - accuracy: 0.0477 - val_loss: 4.3140 - val_accuracy: 0.0433\n",
      "Epoch 6/50\n",
      "143/143 [==============================] - 78s 545ms/step - loss: 4.2362 - accuracy: 0.0563 - val_loss: 4.2561 - val_accuracy: 0.0700\n",
      "Epoch 7/50\n",
      "143/143 [==============================] - 78s 544ms/step - loss: 4.1565 - accuracy: 0.0635 - val_loss: 4.3411 - val_accuracy: 0.0783\n",
      "Epoch 8/50\n",
      "143/143 [==============================] - 78s 545ms/step - loss: 4.0981 - accuracy: 0.0717 - val_loss: 4.0090 - val_accuracy: 0.0692\n",
      "Epoch 9/50\n",
      "143/143 [==============================] - 78s 547ms/step - loss: 4.0437 - accuracy: 0.0801 - val_loss: 3.8688 - val_accuracy: 0.0908\n",
      "Epoch 10/50\n",
      "143/143 [==============================] - 78s 547ms/step - loss: 3.9871 - accuracy: 0.0869 - val_loss: 4.2194 - val_accuracy: 0.0908\n",
      "Epoch 11/50\n",
      "143/143 [==============================] - 78s 547ms/step - loss: 3.9328 - accuracy: 0.0911 - val_loss: 4.0299 - val_accuracy: 0.0967\n",
      "Epoch 12/50\n",
      "143/143 [==============================] - 78s 543ms/step - loss: 3.8652 - accuracy: 0.0981 - val_loss: 3.6092 - val_accuracy: 0.1050\n",
      "Epoch 13/50\n",
      "143/143 [==============================] - 78s 546ms/step - loss: 3.8108 - accuracy: 0.1083 - val_loss: 3.7716 - val_accuracy: 0.1075\n",
      "Epoch 14/50\n",
      "143/143 [==============================] - 78s 543ms/step - loss: 3.7843 - accuracy: 0.1166 - val_loss: 4.2404 - val_accuracy: 0.1100\n",
      "Epoch 15/50\n",
      "143/143 [==============================] - 78s 546ms/step - loss: 3.7385 - accuracy: 0.1246 - val_loss: 3.8454 - val_accuracy: 0.1175\n",
      "Epoch 16/50\n",
      "143/143 [==============================] - 78s 546ms/step - loss: 3.6841 - accuracy: 0.1288 - val_loss: 4.0007 - val_accuracy: 0.1225\n",
      "Epoch 17/50\n",
      "143/143 [==============================] - 78s 545ms/step - loss: 3.6672 - accuracy: 0.1316 - val_loss: 3.7109 - val_accuracy: 0.1167\n",
      "Epoch 18/50\n",
      "143/143 [==============================] - 78s 547ms/step - loss: 3.6438 - accuracy: 0.1346 - val_loss: 3.8216 - val_accuracy: 0.1275\n",
      "Epoch 19/50\n",
      "143/143 [==============================] - 78s 545ms/step - loss: 3.5801 - accuracy: 0.1457 - val_loss: 3.8030 - val_accuracy: 0.1292\n",
      "Epoch 20/50\n",
      "143/143 [==============================] - 78s 544ms/step - loss: 3.5609 - accuracy: 0.1472 - val_loss: 3.9399 - val_accuracy: 0.1333\n",
      "Epoch 21/50\n",
      "143/143 [==============================] - 78s 546ms/step - loss: 3.5453 - accuracy: 0.1491 - val_loss: 3.6270 - val_accuracy: 0.1325\n",
      "Epoch 22/50\n",
      "143/143 [==============================] - 78s 545ms/step - loss: 3.4832 - accuracy: 0.1633 - val_loss: 3.5990 - val_accuracy: 0.1433\n",
      "Epoch 23/50\n",
      "143/143 [==============================] - 78s 545ms/step - loss: 3.4556 - accuracy: 0.1678 - val_loss: 3.4840 - val_accuracy: 0.1400\n",
      "Epoch 24/50\n",
      "143/143 [==============================] - 78s 545ms/step - loss: 3.4642 - accuracy: 0.1693 - val_loss: 3.9020 - val_accuracy: 0.1558\n",
      "Epoch 25/50\n",
      "143/143 [==============================] - 78s 544ms/step - loss: 3.3985 - accuracy: 0.1723 - val_loss: 3.6276 - val_accuracy: 0.1550\n",
      "Epoch 26/50\n",
      "143/143 [==============================] - 78s 545ms/step - loss: 3.4129 - accuracy: 0.1763 - val_loss: 3.5808 - val_accuracy: 0.1450\n",
      "Epoch 27/50\n",
      "143/143 [==============================] - 78s 545ms/step - loss: 3.3578 - accuracy: 0.1825 - val_loss: 3.2519 - val_accuracy: 0.1408\n",
      "Epoch 28/50\n",
      "143/143 [==============================] - 78s 545ms/step - loss: 3.3449 - accuracy: 0.1799 - val_loss: 3.4792 - val_accuracy: 0.1675\n",
      "Epoch 29/50\n",
      "143/143 [==============================] - 78s 545ms/step - loss: 3.3181 - accuracy: 0.1936 - val_loss: 3.3987 - val_accuracy: 0.1483\n",
      "Epoch 30/50\n",
      "143/143 [==============================] - 78s 545ms/step - loss: 3.2854 - accuracy: 0.1972 - val_loss: 3.4226 - val_accuracy: 0.1758\n",
      "Epoch 31/50\n",
      "143/143 [==============================] - 78s 544ms/step - loss: 3.2634 - accuracy: 0.1976 - val_loss: 3.3697 - val_accuracy: 0.1758\n",
      "Epoch 32/50\n",
      "143/143 [==============================] - 78s 545ms/step - loss: 3.2320 - accuracy: 0.2013 - val_loss: 3.7778 - val_accuracy: 0.1767\n",
      "Epoch 33/50\n",
      "143/143 [==============================] - 78s 545ms/step - loss: 3.2301 - accuracy: 0.2066 - val_loss: 3.3063 - val_accuracy: 0.1625\n",
      "Epoch 34/50\n",
      "143/143 [==============================] - 78s 547ms/step - loss: 3.2106 - accuracy: 0.2099 - val_loss: 3.3369 - val_accuracy: 0.1425\n",
      "Epoch 35/50\n",
      "143/143 [==============================] - 78s 546ms/step - loss: 3.1875 - accuracy: 0.2097 - val_loss: 3.5796 - val_accuracy: 0.1642\n",
      "Epoch 36/50\n",
      "143/143 [==============================] - 78s 547ms/step - loss: 3.1466 - accuracy: 0.2176 - val_loss: 3.7147 - val_accuracy: 0.1900\n",
      "Epoch 37/50\n",
      "143/143 [==============================] - 78s 548ms/step - loss: 3.1562 - accuracy: 0.2201 - val_loss: 3.7107 - val_accuracy: 0.1700\n",
      "Epoch 38/50\n",
      "143/143 [==============================] - 78s 545ms/step - loss: 3.1210 - accuracy: 0.2210 - val_loss: 3.4532 - val_accuracy: 0.1658\n",
      "Epoch 39/50\n",
      "143/143 [==============================] - 78s 547ms/step - loss: 3.1165 - accuracy: 0.2263 - val_loss: 3.4215 - val_accuracy: 0.1800\n",
      "Epoch 40/50\n",
      "143/143 [==============================] - 78s 545ms/step - loss: 3.1182 - accuracy: 0.2220 - val_loss: 3.8791 - val_accuracy: 0.1917\n",
      "Epoch 41/50\n",
      "143/143 [==============================] - 78s 545ms/step - loss: 3.0661 - accuracy: 0.2335 - val_loss: 3.7311 - val_accuracy: 0.1792\n",
      "Epoch 42/50\n",
      "143/143 [==============================] - 78s 548ms/step - loss: 3.0397 - accuracy: 0.2329 - val_loss: 2.8295 - val_accuracy: 0.1817\n",
      "Epoch 43/50\n",
      "143/143 [==============================] - 78s 545ms/step - loss: 3.0682 - accuracy: 0.2344 - val_loss: 3.9480 - val_accuracy: 0.1725\n",
      "Epoch 44/50\n",
      "143/143 [==============================] - 78s 546ms/step - loss: 3.0569 - accuracy: 0.2337 - val_loss: 3.9100 - val_accuracy: 0.1708\n",
      "Epoch 45/50\n",
      "143/143 [==============================] - 78s 546ms/step - loss: 3.0192 - accuracy: 0.2447 - val_loss: 3.2201 - val_accuracy: 0.1892\n",
      "Epoch 46/50\n",
      "143/143 [==============================] - 78s 548ms/step - loss: 3.0202 - accuracy: 0.2433 - val_loss: 3.6837 - val_accuracy: 0.2050\n",
      "Epoch 47/50\n",
      "143/143 [==============================] - 78s 549ms/step - loss: 2.9812 - accuracy: 0.2482 - val_loss: 3.2706 - val_accuracy: 0.1892\n",
      "Epoch 48/50\n",
      "143/143 [==============================] - 78s 549ms/step - loss: 3.0299 - accuracy: 0.2439 - val_loss: 3.7300 - val_accuracy: 0.1742\n",
      "Epoch 49/50\n",
      "143/143 [==============================] - 79s 552ms/step - loss: 2.9648 - accuracy: 0.2509 - val_loss: 3.3835 - val_accuracy: 0.1933\n",
      "Epoch 50/50\n",
      "143/143 [==============================] - 78s 549ms/step - loss: 2.9662 - accuracy: 0.2538 - val_loss: 3.0763 - val_accuracy: 0.1883\n"
     ]
    }
   ],
   "source": [
    "history=model.fit_generator(\n",
    "    Train_generator,\n",
    "    #steps_per_epoch=100,\n",
    "    epochs=50,\n",
    "    validation_data=Val_generator,\n",
    "    validation_steps=50\n",
    ")"
   ]
  },
  {
   "cell_type": "code",
   "execution_count": 14,
   "metadata": {},
   "outputs": [],
   "source": [
    "model.save('model_V3_50epochs.h5')"
   ]
  },
  {
   "cell_type": "code",
   "execution_count": 19,
   "metadata": {},
   "outputs": [
    {
     "data": {
      "image/png": "[encoded data removed]",
      "text/plain": [
       "<Figure size 432x288 with 1 Axes>"
      ]
     },
     "metadata": {
      "needs_background": "light"
     },
     "output_type": "display_data"
    }
   ],
   "source": [
    "import matplotlib.pyplot as plt\n",
    "loss = history.history['loss']\n",
    "val_loss = history.history['val_loss']\n",
    "epochs = range(1, len(loss) + 1)\n",
    "plt.plot(epochs, loss, 'bo', label='Training loss')\n",
    "plt.plot(epochs, val_loss, 'b', label='Validation loss')\n",
    "plt.title('Training and validation loss')\n",
    "plt.xlabel('Epochs')\n",
    "plt.ylabel('Loss')\n",
    "plt.legend()\n",
    "#plt.show()\n",
    "plt.savefig(\"model_V3_50epochs_1.png\")"
   ]
  },
  {
   "cell_type": "code",
   "execution_count": 20,
   "metadata": {},
   "outputs": [
    {
     "data": {
      "image/png": "[encoded data removed]",
      "text/plain": [
       "<Figure size 432x288 with 1 Axes>"
      ]
     },
     "metadata": {
      "needs_background": "light"
     },
     "output_type": "display_data"
    }
   ],
   "source": [
    "plt.clf()\n",
    "acc = history.history['accuracy']\n",
    "val_acc = history.history['val_accuracy']\n",
    "plt.plot(epochs, acc, 'bo', label='Training acc')\n",
    "plt.plot(epochs, val_acc, 'b', label='Validation acc')\n",
    "plt.title('Training and validation accuracy')\n",
    "plt.xlabel('Epochs')\n",
    "plt.ylabel('Loss')\n",
    "plt.legend()\n",
    "#plt.show()\n",
    "plt.savefig(\"model_V3_50epochs_2.png\")"
   ]
  },
  {
   "cell_type": "code",
   "execution_count": null,
   "metadata": {},
   "outputs": [],
   "source": []
  }
 ],
 "metadata": {
  "kernelspec": {
   "display_name": "Python 3",
   "language": "python",
   "name": "python3"
  },
  "language_info": {
   "codemirror_mode": {
    "name": "ipython",
    "version": 3
   },
   "file_extension": ".py",
   "mimetype": "text/x-python",
   "name": "python",
   "nbconvert_exporter": "python",
   "pygments_lexer": "ipython3",
   "version": "3.7.7"
  }
 },
 "nbformat": 4,
 "nbformat_minor": 4
}
