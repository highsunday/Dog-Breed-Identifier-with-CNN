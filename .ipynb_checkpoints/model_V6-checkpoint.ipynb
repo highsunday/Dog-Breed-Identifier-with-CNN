{
 "cells": [
  {
   "cell_type": "code",
   "execution_count": 1,
   "metadata": {},
   "outputs": [
    {
     "name": "stderr",
     "output_type": "stream",
     "text": [
      "Using TensorFlow backend.\n"
     ]
    }
   ],
   "source": [
    "from keras.applications import VGG16"
   ]
  },
  {
   "cell_type": "code",
   "execution_count": 2,
   "metadata": {},
   "outputs": [],
   "source": [
    "img_size=150"
   ]
  },
  {
   "cell_type": "code",
   "execution_count": 3,
   "metadata": {},
   "outputs": [
    {
     "name": "stdout",
     "output_type": "stream",
     "text": [
      "WARNING:tensorflow:From C:\\Users\\highs\\anaconda3\\envs\\tensorflow-gpu\\lib\\site-packages\\tensorflow\\python\\ops\\resource_variable_ops.py:435: colocate_with (from tensorflow.python.framework.ops) is deprecated and will be removed in a future version.\n",
      "Instructions for updating:\n",
      "Colocations handled automatically by placer.\n"
     ]
    }
   ],
   "source": [
    "con_base=VGG16(weights='imagenet',include_top=False,input_shape=(img_size,img_size,3))"
   ]
  },
  {
   "cell_type": "code",
   "execution_count": 4,
   "metadata": {},
   "outputs": [],
   "source": [
    "from keras import layers\n",
    "from keras import models\n",
    "model=models.Sequential()\n",
    "model.add(con_base)\n",
    "model.add(layers.Flatten())\n",
    "#model.add(layers.Dropout(0.3))\n",
    "model.add(layers.Dense(256,activation='relu'))\n",
    "model.add(layers.Dense(120,activation='softmax'))"
   ]
  },
  {
   "cell_type": "code",
   "execution_count": 5,
   "metadata": {},
   "outputs": [],
   "source": [
    "con_base.trainable=True\n",
    "set_trainable=False\n",
    "for layer in con_base.layers:\n",
    "    if(layer.name=='block5_conv3'):\n",
    "        set_trainable=True\n",
    "    if(set_trainable):\n",
    "        layer.trainable=True\n",
    "    else:\n",
    "        layer.trainable=False"
   ]
  },
  {
   "cell_type": "code",
   "execution_count": 6,
   "metadata": {},
   "outputs": [
    {
     "name": "stdout",
     "output_type": "stream",
     "text": [
      "Model: \"vgg16\"\n",
      "_________________________________________________________________\n",
      "Layer (type)                 Output Shape              Param #   \n",
      "=================================================================\n",
      "input_1 (InputLayer)         (None, 150, 150, 3)       0         \n",
      "_________________________________________________________________\n",
      "block1_conv1 (Conv2D)        (None, 150, 150, 64)      1792      \n",
      "_________________________________________________________________\n",
      "block1_conv2 (Conv2D)        (None, 150, 150, 64)      36928     \n",
      "_________________________________________________________________\n",
      "block1_pool (MaxPooling2D)   (None, 75, 75, 64)        0         \n",
      "_________________________________________________________________\n",
      "block2_conv1 (Conv2D)        (None, 75, 75, 128)       73856     \n",
      "_________________________________________________________________\n",
      "block2_conv2 (Conv2D)        (None, 75, 75, 128)       147584    \n",
      "_________________________________________________________________\n",
      "block2_pool (MaxPooling2D)   (None, 37, 37, 128)       0         \n",
      "_________________________________________________________________\n",
      "block3_conv1 (Conv2D)        (None, 37, 37, 256)       295168    \n",
      "_________________________________________________________________\n",
      "block3_conv2 (Conv2D)        (None, 37, 37, 256)       590080    \n",
      "_________________________________________________________________\n",
      "block3_conv3 (Conv2D)        (None, 37, 37, 256)       590080    \n",
      "_________________________________________________________________\n",
      "block3_pool (MaxPooling2D)   (None, 18, 18, 256)       0         \n",
      "_________________________________________________________________\n",
      "block4_conv1 (Conv2D)        (None, 18, 18, 512)       1180160   \n",
      "_________________________________________________________________\n",
      "block4_conv2 (Conv2D)        (None, 18, 18, 512)       2359808   \n",
      "_________________________________________________________________\n",
      "block4_conv3 (Conv2D)        (None, 18, 18, 512)       2359808   \n",
      "_________________________________________________________________\n",
      "block4_pool (MaxPooling2D)   (None, 9, 9, 512)         0         \n",
      "_________________________________________________________________\n",
      "block5_conv1 (Conv2D)        (None, 9, 9, 512)         2359808   \n",
      "_________________________________________________________________\n",
      "block5_conv2 (Conv2D)        (None, 9, 9, 512)         2359808   \n",
      "_________________________________________________________________\n",
      "block5_conv3 (Conv2D)        (None, 9, 9, 512)         2359808   \n",
      "_________________________________________________________________\n",
      "block5_pool (MaxPooling2D)   (None, 4, 4, 512)         0         \n",
      "=================================================================\n",
      "Total params: 14,714,688\n",
      "Trainable params: 2,359,808\n",
      "Non-trainable params: 12,354,880\n",
      "_________________________________________________________________\n"
     ]
    }
   ],
   "source": [
    "con_base.summary()"
   ]
  },
  {
   "cell_type": "code",
   "execution_count": 7,
   "metadata": {},
   "outputs": [
    {
     "name": "stdout",
     "output_type": "stream",
     "text": [
      "Model: \"sequential_1\"\n",
      "_________________________________________________________________\n",
      "Layer (type)                 Output Shape              Param #   \n",
      "=================================================================\n",
      "vgg16 (Model)                (None, 4, 4, 512)         14714688  \n",
      "_________________________________________________________________\n",
      "flatten_1 (Flatten)          (None, 8192)              0         \n",
      "_________________________________________________________________\n",
      "dense_1 (Dense)              (None, 256)               2097408   \n",
      "_________________________________________________________________\n",
      "dense_2 (Dense)              (None, 120)               30840     \n",
      "=================================================================\n",
      "Total params: 16,842,936\n",
      "Trainable params: 4,488,056\n",
      "Non-trainable params: 12,354,880\n",
      "_________________________________________________________________\n"
     ]
    }
   ],
   "source": [
    "model.summary()"
   ]
  },
  {
   "cell_type": "code",
   "execution_count": 8,
   "metadata": {},
   "outputs": [],
   "source": [
    "from keras import optimizers\n",
    "model.compile(optimizer='adam',\n",
    "              loss='categorical_crossentropy',\n",
    "              metrics=['accuracy'])"
   ]
  },
  {
   "cell_type": "code",
   "execution_count": 17,
   "metadata": {},
   "outputs": [],
   "source": [
    "from keras.preprocessing.image import ImageDataGenerator\n",
    "\n",
    "train_path='data/images/train2'\n",
    "val_path='data/images/val'\n",
    "\n",
    "Train_datagen = ImageDataGenerator(\n",
    "    rescale=1./255,\n",
    "    rotation_range=40,\n",
    "    width_shift_range=0.2,\n",
    "    height_shift_range=0.2,\n",
    "    shear_range=0.2,\n",
    "    zoom_range=0.2,\n",
    "    fill_mode=\"nearest\",\n",
    "    horizontal_flip=True,\n",
    ") \n",
    "Test_datagen = ImageDataGenerator(\n",
    "    rescale=1./255\n",
    ") "
   ]
  },
  {
   "cell_type": "code",
   "execution_count": 18,
   "metadata": {},
   "outputs": [
    {
     "name": "stdout",
     "output_type": "stream",
     "text": [
      "Found 25440 images belonging to 120 classes.\n"
     ]
    }
   ],
   "source": [
    "Train_generator=Train_datagen.flow_from_directory(train_path,target_size=(img_size,img_size),batch_size=128,class_mode='categorical')"
   ]
  },
  {
   "cell_type": "code",
   "execution_count": 19,
   "metadata": {},
   "outputs": [
    {
     "name": "stdout",
     "output_type": "stream",
     "text": [
      "Found 3600 images belonging to 120 classes.\n"
     ]
    }
   ],
   "source": [
    "Val_generator=Test_datagen.flow_from_directory(val_path,target_size=(img_size,img_size),batch_size=128,class_mode='categorical')"
   ]
  },
  {
   "cell_type": "code",
   "execution_count": 24,
   "metadata": {},
   "outputs": [
    {
     "name": "stdout",
     "output_type": "stream",
     "text": [
      "Epoch 1/30\n",
      "199/199 [==============================] - 175s 879ms/step - loss: 1.5246 - accuracy: 0.5815 - val_loss: 2.2640 - val_accuracy: 0.4719\n",
      "Epoch 2/30\n",
      "199/199 [==============================] - 162s 816ms/step - loss: 1.4920 - accuracy: 0.5892 - val_loss: 2.4798 - val_accuracy: 0.4684\n",
      "Epoch 3/30\n",
      "199/199 [==============================] - 163s 821ms/step - loss: 1.4892 - accuracy: 0.5890 - val_loss: 2.3182 - val_accuracy: 0.4723\n",
      "Epoch 4/30\n",
      "199/199 [==============================] - 161s 807ms/step - loss: 1.4916 - accuracy: 0.5897 - val_loss: 2.8013 - val_accuracy: 0.4749\n",
      "Epoch 5/30\n",
      "199/199 [==============================] - 164s 822ms/step - loss: 1.4815 - accuracy: 0.5920 - val_loss: 2.4726 - val_accuracy: 0.4658\n",
      "Epoch 6/30\n",
      "199/199 [==============================] - 161s 807ms/step - loss: 1.4754 - accuracy: 0.5928 - val_loss: 2.3659 - val_accuracy: 0.4655\n",
      "Epoch 7/30\n",
      "199/199 [==============================] - 157s 788ms/step - loss: 1.4714 - accuracy: 0.5947 - val_loss: 3.0032 - val_accuracy: 0.4734\n",
      "Epoch 8/30\n",
      "199/199 [==============================] - 157s 788ms/step - loss: 1.4521 - accuracy: 0.5994 - val_loss: 2.6447 - val_accuracy: 0.4722\n",
      "Epoch 9/30\n",
      "199/199 [==============================] - 159s 800ms/step - loss: 1.4398 - accuracy: 0.6066 - val_loss: 2.0468 - val_accuracy: 0.4785\n",
      "Epoch 10/30\n",
      "199/199 [==============================] - 158s 794ms/step - loss: 1.4510 - accuracy: 0.5963 - val_loss: 2.6008 - val_accuracy: 0.4675\n",
      "Epoch 11/30\n",
      "199/199 [==============================] - 157s 789ms/step - loss: 1.4410 - accuracy: 0.6077 - val_loss: 2.5360 - val_accuracy: 0.4776\n",
      "Epoch 12/30\n",
      "199/199 [==============================] - 161s 808ms/step - loss: 1.4338 - accuracy: 0.6027 - val_loss: 2.6396 - val_accuracy: 0.4743\n",
      "Epoch 13/30\n",
      "199/199 [==============================] - 159s 800ms/step - loss: 1.4222 - accuracy: 0.6107 - val_loss: 2.3038 - val_accuracy: 0.4723\n",
      "Epoch 14/30\n",
      "199/199 [==============================] - 158s 795ms/step - loss: 1.4163 - accuracy: 0.6100 - val_loss: 3.0682 - val_accuracy: 0.4767\n",
      "Epoch 15/30\n",
      "199/199 [==============================] - 157s 790ms/step - loss: 1.4329 - accuracy: 0.6088 - val_loss: 2.7168 - val_accuracy: 0.4604\n",
      "Epoch 16/30\n",
      "199/199 [==============================] - 160s 804ms/step - loss: 1.4101 - accuracy: 0.6125 - val_loss: 2.8794 - val_accuracy: 0.4806\n",
      "Epoch 17/30\n",
      "199/199 [==============================] - 159s 798ms/step - loss: 1.4010 - accuracy: 0.6129 - val_loss: 2.5900 - val_accuracy: 0.4887\n",
      "Epoch 18/30\n",
      "199/199 [==============================] - 158s 794ms/step - loss: 1.4011 - accuracy: 0.6092 - val_loss: 2.1923 - val_accuracy: 0.4733\n",
      "Epoch 19/30\n",
      "199/199 [==============================] - 158s 792ms/step - loss: 1.4215 - accuracy: 0.6069 - val_loss: 3.1064 - val_accuracy: 0.4836\n",
      "Epoch 20/30\n",
      "199/199 [==============================] - 160s 804ms/step - loss: 1.3958 - accuracy: 0.6158 - val_loss: 2.7472 - val_accuracy: 0.4799\n",
      "Epoch 21/30\n",
      "199/199 [==============================] - 159s 798ms/step - loss: 1.3759 - accuracy: 0.6205 - val_loss: 2.1804 - val_accuracy: 0.4913\n",
      "Epoch 22/30\n",
      "199/199 [==============================] - 158s 793ms/step - loss: 1.3574 - accuracy: 0.6225 - val_loss: 3.0144 - val_accuracy: 0.4884\n",
      "Epoch 23/30\n",
      "199/199 [==============================] - 171s 857ms/step - loss: 1.3715 - accuracy: 0.6171 - val_loss: 3.5073 - val_accuracy: 0.4930\n",
      "Epoch 24/30\n",
      "199/199 [==============================] - 162s 812ms/step - loss: 1.3688 - accuracy: 0.6220 - val_loss: 2.7994 - val_accuracy: 0.4958\n",
      "Epoch 25/30\n",
      "199/199 [==============================] - 163s 820ms/step - loss: 1.3591 - accuracy: 0.6262 - val_loss: 3.5051 - val_accuracy: 0.4849\n",
      "Epoch 26/30\n",
      "199/199 [==============================] - 171s 859ms/step - loss: 1.3603 - accuracy: 0.6239 - val_loss: 2.2610 - val_accuracy: 0.4830\n",
      "Epoch 27/30\n",
      "199/199 [==============================] - 174s 873ms/step - loss: 1.3511 - accuracy: 0.6240 - val_loss: 2.3553 - val_accuracy: 0.4917\n",
      "Epoch 28/30\n",
      "199/199 [==============================] - 165s 831ms/step - loss: 1.3325 - accuracy: 0.6298 - val_loss: 2.9015 - val_accuracy: 0.4825\n",
      "Epoch 29/30\n",
      "199/199 [==============================] - 165s 828ms/step - loss: 1.3490 - accuracy: 0.6276 - val_loss: 1.4742 - val_accuracy: 0.4809\n",
      "Epoch 30/30\n",
      "199/199 [==============================] - 165s 831ms/step - loss: 1.3264 - accuracy: 0.6333 - val_loss: 2.6959 - val_accuracy: 0.4955\n"
     ]
    }
   ],
   "source": [
    "history=model.fit_generator(\n",
    "    Train_generator,\n",
    "    #steps_per_epoch=100,\n",
    "    epochs=50,\n",
    "    validation_data=Val_generator,\n",
    "    validation_steps=50\n",
    ")"
   ]
  },
  {
   "cell_type": "code",
   "execution_count": 25,
   "metadata": {},
   "outputs": [],
   "source": [
    "model.save('model_V6_50epochs-3.h5')"
   ]
  },
  {
   "cell_type": "code",
   "execution_count": 26,
   "metadata": {},
   "outputs": [
    {
     "data": {
      "image/png": "[encoded data removed]",
      "text/plain": [
       "<Figure size 432x288 with 1 Axes>"
      ]
     },
     "metadata": {
      "needs_background": "light"
     },
     "output_type": "display_data"
    }
   ],
   "source": [
    "import matplotlib.pyplot as plt\n",
    "loss = history.history['loss']\n",
    "val_loss = history.history['val_loss']\n",
    "epochs = range(1, len(loss) + 1)\n",
    "plt.plot(epochs, loss, 'bo', label='Training loss')\n",
    "plt.plot(epochs, val_loss, 'b', label='Validation loss')\n",
    "plt.title('Training and validation loss')\n",
    "plt.xlabel('Epochs')\n",
    "plt.ylabel('Loss')\n",
    "plt.legend()\n",
    "#plt.show()\n",
    "plt.savefig(\"model_V6_50epochs_3-1.png\")"
   ]
  },
  {
   "cell_type": "code",
   "execution_count": 27,
   "metadata": {},
   "outputs": [
    {
     "data": {
      "image/png": "[encoded data removed]",
      "text/plain": [
       "<Figure size 432x288 with 1 Axes>"
      ]
     },
     "metadata": {
      "needs_background": "light"
     },
     "output_type": "display_data"
    }
   ],
   "source": [
    "plt.clf()\n",
    "acc = history.history['accuracy']\n",
    "val_acc = history.history['val_accuracy']\n",
    "plt.plot(epochs, acc, 'bo', label='Training acc')\n",
    "plt.plot(epochs, val_acc, 'b', label='Validation acc')\n",
    "plt.title('Training and validation accuracy')\n",
    "plt.xlabel('Epochs')\n",
    "plt.ylabel('Loss')\n",
    "plt.legend()\n",
    "#plt.show()\n",
    "plt.savefig(\"model_V6_50epochs_3-2.png\")"
   ]
  },
  {
   "cell_type": "code",
   "execution_count": null,
   "metadata": {},
   "outputs": [],
   "source": []
  },
  {
   "cell_type": "code",
   "execution_count": null,
   "metadata": {},
   "outputs": [],
   "source": []
  }
 ],
 "metadata": {
  "kernelspec": {
   "display_name": "Python 3",
   "language": "python",
   "name": "python3"
  },
  "language_info": {
   "codemirror_mode": {
    "name": "ipython",
    "version": 3
   },
   "file_extension": ".py",
   "mimetype": "text/x-python",
   "name": "python",
   "nbconvert_exporter": "python",
   "pygments_lexer": "ipython3",
   "version": "3.7.7"
  }
 },
 "nbformat": 4,
 "nbformat_minor": 4
}
